{
 "cells": [
  {
   "cell_type": "markdown",
   "metadata": {},
   "source": [
    "<p align=\"center\"><img src=\"https://github.com/insaid2018/Term-1/blob/master/Images/INSAID_Full%20Logo.png?raw=true\" width=\"260\" height=\"110\" /></p>"
   ]
  },
  {
   "cell_type": "markdown",
   "metadata": {},
   "source": [
    "Project Submitted by: Abhinav Nimje <br>\n",
    "Email ID: abhinavnimje@gmail.com <br>\n",
    "Cohort: July 2020 <br>\n",
    "Term: Term 3 - Machine Learning Foundation<br>\n",
    "Domain: Stock Market Price Data <br>\n",
    "Source: Quandl"
   ]
  },
  {
   "cell_type": "markdown",
   "metadata": {},
   "source": [
    "---\n",
    "# **Table of Contents**\n",
    "---\n",
    "\n",
    "1. [**Introduction**](#Section1)<br>\n",
    "2. [**Problem Statement**](#Section2)<br>\n",
    "3. [**Importing Libraries**](#Section3)<br>\n",
    "4. [**Data Acquisition & Description**](#Section4)<br>\n",
    "5. [**Data Pre-Profiling**](#Section5)<br>\n",
    "6. [**Data Pre-Processing**](#Section6)<br>\n",
    "7. [**Data Post-Profiling**](#Section7)<br>\n",
    "8. [**Exploratory Data Analysis**](#Section8)<br>\n",
    "9. [**Machine Learning Algoritms and Execution**](#Section9)<br>\n",
    "10. [**Final Evaluation**](#Section10) <br>\n",
    "11. [**Conclusion**](#Section11) <br>\n",
    "\n",
    "---"
   ]
  },
  {
   "cell_type": "markdown",
   "metadata": {},
   "source": [
    "---\n",
    "<a name = Section1></a>\n",
    "# **1. Introduction**\n",
    "---\n",
    "\n",
    "- This Study is to perform Machine Learning Algorithms on Stock Price Data for Jindal Stainless (Hisar) Ltd.\n",
    "\n",
    "- This dataset contains End of Day prices for stock for last 5 years.\n",
    "\n",
    "- Based on Open, High, Low and Close pries, both linear and classification Algorithms will be used.\n",
    "\n",
    "- Classification Algorithm will be used to find out Trend and Regression will be used to find out future price prediction.\n",
    "\n",
    "<p align=\"center\"><img src=\"https://images.moneycontrol.com/static-mcnews/2020/01/Sensex_BSE_NSE_Stock-market_bull_bear_Gold-5-770x433.png\"></p>"
   ]
  },
  {
   "cell_type": "markdown",
   "metadata": {},
   "source": [
    "---\n",
    "<a name = Section2></a>\n",
    "# **2. Problem Statement**\n",
    "---\n",
    "\n",
    "- Here we are going to analyze and conclude few observations for following Problem Statement.\n",
    "- **Problem Statement:**\n",
    "\n",
    "  - With data provided for Open High Low Close (OHLC), we need to find out trend and Future closing price.\n",
    "\n",
    "  - There will be 2 types Algorithms used to achived mentioned probelm statement.\n",
    "\n",
    "  - Regression to calculate Future Stock Price.\n",
    "\n",
    "  - And Classification to find out Trend of Stock.\n",
    "\n",
    "  - Few more fields needs to be added to the dataset to make study more powerful.\n",
    "  \n",
    "<p align=\"center\"><img src=\"https://images.moneycontrol.com/static-mcnews/2020/01/Sensex_BSE_NSE_Stock-market_bull_bear_Gold-4-770x433.png\"></p>\n",
    "\n",
    "- Following points are in scope of this study.\n",
    "\n",
    "- **Scope of Study:**\n",
    "  - Study is carried out for Jindal Stainless (HISAR) Ltd..\n",
    "\n",
    "  - Data considered for the study is from last 5 years to till date.\n",
    "\n",
    "  - For the sake of simplicity, Volume and Volume in delivery is not considered.\n",
    "\n",
    "  - Few Moving averages are included to make study powerful.\n"
   ]
  },
  {
   "cell_type": "markdown",
   "metadata": {},
   "source": [
    "---\n",
    "<a id = Section3></a>\n",
    "# **3. Importing Libraries**\n",
    "---\n",
    "\n",
    "- Importing all necessary libraries which are needed for Exploratory Data Analysis on this Retail Sales Data ."
   ]
  },
  {
   "cell_type": "markdown",
   "metadata": {},
   "source": [
    "### **Importing Libraries**\n",
    "\n",
    "- You can headstart with the basic libraries as imported inside the cell below.\n",
    "\n",
    "- If you want to import some additional libraries, feel free to do so.\n"
   ]
  },
  {
   "cell_type": "code",
   "execution_count": 66,
   "metadata": {},
   "outputs": [],
   "source": [
    "#-------------------------------------------------------------------------------------------------------------------------------\n",
    "import numpy as np                                                  # Importing package numpys (For Numerical Python)\n",
    "#-------------------------------------------------------------------------------------------------------------------------------\n",
    "import pandas as pd                                                 # Importing package pandas (For Panel Data Analysis)\n",
    "from pandas_profiling import ProfileReport                          # Import Pandas Profiling (To generate Univariate Analysis)\n",
    "#-------------------------------------------------------------------------------------------------------------------------------\n",
    "import matplotlib.pyplot as plt                                     # Importing pyplot interface to use matplotlib\n",
    "%matplotlib inline\n",
    "import seaborn as sns                                               # Importing seaborn library for interactive visualization\n",
    "#----------------------------------------------------------------------------------------------------------------------\n",
    "import warnings                                                     # To get rid of all warnings\n",
    "warnings.filterwarnings('ignore')\n",
    "#----------------------------------------------------------------------------------------------------------------------\n",
    "import math                                                         # Importing math for calculations\n",
    "#----------------------------------------------------------------------------------------------------------------------\n",
    "import quandl                                                       # Import Quandl to get EOD data for Stocks\n",
    "#----------------------------------------------------------------------------------------------------------------------\n",
    "\n",
    "#----------------------------------------------------------------------------------------------------------------------\n",
    "#-------------- Importing Machine Learning, Normalization and Standardization Libraries -------------------------------\n",
    "#----------------------------------------------------------------------------------------------------------------------\n",
    "from sklearn.preprocessing import StandardScaler                    # Import Standard Scaler for value conversion\n",
    "#----------------------------------------------------------------------------------------------------------------------\n",
    "from sklearn.model_selection import train_test_split                # To split training and testing data\n",
    "#----------------------------------------------------------------------------------------------------------------------\n",
    "from sklearn.linear_model import LinearRegression                   # Regression Algorithm\n",
    "from sklearn.linear_model import LogisticRegression                 # Classification Algorithm\n",
    "from sklearn.ensemble import RandomForestClassifier                 # Classification Algorithm\n",
    "from sklearn.ensemble import RandomForestRegressor                  # Regressor Algorithm\n",
    "from sklearn import tree                                            # Decision Tree Algorithm\n",
    "#----------------------------------------------------------------------------------------------------------------------\n",
    "from sklearn import metrics                                         # Calculate MAE and RMSE\n",
    "from sklearn.metrics import accuracy_score                          # Accuracy Score\n",
    "from sklearn.metrics import confusion_matrix                        # Confusion Matrix\n",
    "from sklearn.metrics import classification_report                   # Precicision, Recall, F1 Score\n",
    "from sklearn.metrics import r2_score                                # R2 for regression problem\n",
    "from sklearn.metrics import precision_score                         # precision for Classification problem\n",
    "from sklearn.metrics import recall_score                            # recall for Classification problem\n",
    "from sklearn.metrics import f1_score                                # F1 for Classification problem\n",
    "#----------------------------------------------------------------------------------------------------------------------\n",
    "\n"
   ]
  },
  {
   "cell_type": "markdown",
   "metadata": {},
   "source": [
    "---\n",
    "<a name = Section4></a>\n",
    "# **4. Data Acquisition & Description**\n",
    "---\n",
    "\n",
    "- This section is emphasised on the accquiring the data and obtain some descriptive information out of it.\n"
   ]
  },
  {
   "cell_type": "markdown",
   "metadata": {},
   "source": [
    "### **Importing API Key to fetch data from Quandl**"
   ]
  },
  {
   "cell_type": "code",
   "execution_count": 2,
   "metadata": {},
   "outputs": [],
   "source": [
    "quandl.ApiConfig.api_key = 'hwyxqiCEAFxxyzbgXLU5'                   # Import APIKEY to get access to QUANDL data"
   ]
  },
  {
   "cell_type": "markdown",
   "metadata": {},
   "source": [
    "### **Data Acquisition**"
   ]
  },
  {
   "cell_type": "markdown",
   "metadata": {},
   "source": [
    "### **Fetch data from Quandl for Jindal Stainless (Hisar) Ltd EOD Prices**"
   ]
  },
  {
   "cell_type": "code",
   "execution_count": 3,
   "metadata": {},
   "outputs": [
    {
     "data": {
      "text/html": [
       "<div>\n",
       "<style scoped>\n",
       "    .dataframe tbody tr th:only-of-type {\n",
       "        vertical-align: middle;\n",
       "    }\n",
       "\n",
       "    .dataframe tbody tr th {\n",
       "        vertical-align: top;\n",
       "    }\n",
       "\n",
       "    .dataframe thead th {\n",
       "        text-align: right;\n",
       "    }\n",
       "</style>\n",
       "<table border=\"1\" class=\"dataframe\">\n",
       "  <thead>\n",
       "    <tr style=\"text-align: right;\">\n",
       "      <th></th>\n",
       "      <th>Open</th>\n",
       "      <th>High</th>\n",
       "      <th>Low</th>\n",
       "      <th>Close</th>\n",
       "      <th>WAP</th>\n",
       "      <th>No. of Shares</th>\n",
       "      <th>No. of Trades</th>\n",
       "      <th>Total Turnover</th>\n",
       "      <th>Deliverable Quantity</th>\n",
       "      <th>% Deli. Qty to Traded Qty</th>\n",
       "      <th>Spread H-L</th>\n",
       "      <th>Spread C-O</th>\n",
       "    </tr>\n",
       "    <tr>\n",
       "      <th>Date</th>\n",
       "      <th></th>\n",
       "      <th></th>\n",
       "      <th></th>\n",
       "      <th></th>\n",
       "      <th></th>\n",
       "      <th></th>\n",
       "      <th></th>\n",
       "      <th></th>\n",
       "      <th></th>\n",
       "      <th></th>\n",
       "      <th></th>\n",
       "      <th></th>\n",
       "    </tr>\n",
       "  </thead>\n",
       "  <tbody>\n",
       "    <tr>\n",
       "      <th>2017-02-21</th>\n",
       "      <td>105.25</td>\n",
       "      <td>108.9</td>\n",
       "      <td>105.20</td>\n",
       "      <td>105.75</td>\n",
       "      <td>106.33</td>\n",
       "      <td>68764.0</td>\n",
       "      <td>753.0</td>\n",
       "      <td>7311931.0</td>\n",
       "      <td>26460.0</td>\n",
       "      <td>38.48</td>\n",
       "      <td>3.70</td>\n",
       "      <td>0.50</td>\n",
       "    </tr>\n",
       "    <tr>\n",
       "      <th>2017-02-22</th>\n",
       "      <td>106.00</td>\n",
       "      <td>111.0</td>\n",
       "      <td>105.80</td>\n",
       "      <td>107.15</td>\n",
       "      <td>108.48</td>\n",
       "      <td>94920.0</td>\n",
       "      <td>1182.0</td>\n",
       "      <td>10296999.0</td>\n",
       "      <td>52781.0</td>\n",
       "      <td>55.61</td>\n",
       "      <td>5.20</td>\n",
       "      <td>1.15</td>\n",
       "    </tr>\n",
       "    <tr>\n",
       "      <th>2017-02-23</th>\n",
       "      <td>106.95</td>\n",
       "      <td>111.0</td>\n",
       "      <td>106.95</td>\n",
       "      <td>109.60</td>\n",
       "      <td>109.40</td>\n",
       "      <td>149331.0</td>\n",
       "      <td>1404.0</td>\n",
       "      <td>16336241.0</td>\n",
       "      <td>82039.0</td>\n",
       "      <td>54.94</td>\n",
       "      <td>4.05</td>\n",
       "      <td>2.65</td>\n",
       "    </tr>\n",
       "    <tr>\n",
       "      <th>2017-02-27</th>\n",
       "      <td>110.00</td>\n",
       "      <td>114.4</td>\n",
       "      <td>109.10</td>\n",
       "      <td>111.90</td>\n",
       "      <td>112.00</td>\n",
       "      <td>185009.0</td>\n",
       "      <td>1914.0</td>\n",
       "      <td>20720743.0</td>\n",
       "      <td>42478.0</td>\n",
       "      <td>22.96</td>\n",
       "      <td>5.30</td>\n",
       "      <td>1.90</td>\n",
       "    </tr>\n",
       "    <tr>\n",
       "      <th>2017-02-28</th>\n",
       "      <td>113.00</td>\n",
       "      <td>115.7</td>\n",
       "      <td>113.00</td>\n",
       "      <td>114.60</td>\n",
       "      <td>114.80</td>\n",
       "      <td>63833.0</td>\n",
       "      <td>563.0</td>\n",
       "      <td>7327924.0</td>\n",
       "      <td>24198.0</td>\n",
       "      <td>37.91</td>\n",
       "      <td>2.70</td>\n",
       "      <td>1.60</td>\n",
       "    </tr>\n",
       "  </tbody>\n",
       "</table>\n",
       "</div>"
      ],
      "text/plain": [
       "              Open   High     Low   Close     WAP  No. of Shares  \\\n",
       "Date                                                               \n",
       "2017-02-21  105.25  108.9  105.20  105.75  106.33        68764.0   \n",
       "2017-02-22  106.00  111.0  105.80  107.15  108.48        94920.0   \n",
       "2017-02-23  106.95  111.0  106.95  109.60  109.40       149331.0   \n",
       "2017-02-27  110.00  114.4  109.10  111.90  112.00       185009.0   \n",
       "2017-02-28  113.00  115.7  113.00  114.60  114.80        63833.0   \n",
       "\n",
       "            No. of Trades  Total Turnover  Deliverable Quantity  \\\n",
       "Date                                                              \n",
       "2017-02-21          753.0       7311931.0               26460.0   \n",
       "2017-02-22         1182.0      10296999.0               52781.0   \n",
       "2017-02-23         1404.0      16336241.0               82039.0   \n",
       "2017-02-27         1914.0      20720743.0               42478.0   \n",
       "2017-02-28          563.0       7327924.0               24198.0   \n",
       "\n",
       "            % Deli. Qty to Traded Qty  Spread H-L  Spread C-O  \n",
       "Date                                                           \n",
       "2017-02-21                      38.48        3.70        0.50  \n",
       "2017-02-22                      55.61        5.20        1.15  \n",
       "2017-02-23                      54.94        4.05        2.65  \n",
       "2017-02-27                      22.96        5.30        1.90  \n",
       "2017-02-28                      37.91        2.70        1.60  "
      ]
     },
     "execution_count": 3,
     "metadata": {},
     "output_type": "execute_result"
    }
   ],
   "source": [
    "# This is to get priced for Jindal Stainless (Hisar) Ltd EOD Prices\n",
    "df = quandl.get('BSE/BOM539597')\n",
    "df.head()"
   ]
  },
  {
   "cell_type": "code",
   "execution_count": 4,
   "metadata": {},
   "outputs": [
    {
     "data": {
      "text/plain": [
       "(969, 12)"
      ]
     },
     "execution_count": 4,
     "metadata": {},
     "output_type": "execute_result"
    }
   ],
   "source": [
    "df.shape"
   ]
  },
  {
   "cell_type": "markdown",
   "metadata": {},
   "source": [
    "### **Data Description**\n",
    "\n",
    "---\n",
    "\n",
    "- This section is emphasised on the accquiring the data and obtain some descriptive information out of it.\n",
    "\n",
    "- You could either scrap the data and then continue, or use a direct source of link (generally preferred in most cases).\n",
    "\n",
    "- You will be working with a direct source of link to head start your work without worrying about anything.\n",
    "\n",
    "- Before going further you must have a good idea about the features of the data set:\n",
    "\n",
    "|Id|Feature|Description|\n",
    "|:--|:--|:--|\n",
    "|01| Date                   | Date of Trading|\n",
    "|02| Open                   | Open price of the day|\n",
    "|03| High                   | High price of the day|\n",
    "|04| Low                    | Low price of the day| \n",
    "|05| Close                  | Close price of the day|\n",
    "|06| WAP                    | Weighted Average Price of the day| \n",
    "|07| No. of Shares          | Number of Shares traded for the day|\n",
    "|08| No. of Trades          | Number of transactions executed for the day|\n",
    "|09| Total Turnover         | Total turnover for the day| \n",
    "|10| Deliverable Quantity   | Total Quantities carried overnight| \n",
    "|11| % Deli. Qty to Traded Qty | % Delivery of shares carried | \n",
    "|12| Spread H-L             | Difference between High and Low|\n",
    "|13| Spread C-O             | Difference between Close and Open|"
   ]
  },
  {
   "cell_type": "markdown",
   "metadata": {},
   "source": [
    "### **Data Information**"
   ]
  },
  {
   "cell_type": "code",
   "execution_count": 5,
   "metadata": {
    "scrolled": false
   },
   "outputs": [
    {
     "name": "stdout",
     "output_type": "stream",
     "text": [
      "<class 'pandas.core.frame.DataFrame'>\n",
      "DatetimeIndex: 969 entries, 2017-02-21 to 2021-01-19\n",
      "Data columns (total 12 columns):\n",
      " #   Column                     Non-Null Count  Dtype  \n",
      "---  ------                     --------------  -----  \n",
      " 0   Open                       969 non-null    float64\n",
      " 1   High                       969 non-null    float64\n",
      " 2   Low                        969 non-null    float64\n",
      " 3   Close                      969 non-null    float64\n",
      " 4   WAP                        969 non-null    float64\n",
      " 5   No. of Shares              969 non-null    float64\n",
      " 6   No. of Trades              969 non-null    float64\n",
      " 7   Total Turnover             969 non-null    float64\n",
      " 8   Deliverable Quantity       969 non-null    float64\n",
      " 9   % Deli. Qty to Traded Qty  969 non-null    float64\n",
      " 10  Spread H-L                 969 non-null    float64\n",
      " 11  Spread C-O                 969 non-null    float64\n",
      "dtypes: float64(12)\n",
      "memory usage: 98.4 KB\n"
     ]
    }
   ],
   "source": [
    "df.info()"
   ]
  },
  {
   "cell_type": "markdown",
   "metadata": {},
   "source": [
    "There are total 967 rows and 12 columns. None of the column contains null values. "
   ]
  },
  {
   "cell_type": "code",
   "execution_count": 6,
   "metadata": {
    "scrolled": false
   },
   "outputs": [
    {
     "data": {
      "text/html": [
       "<div>\n",
       "<style scoped>\n",
       "    .dataframe tbody tr th:only-of-type {\n",
       "        vertical-align: middle;\n",
       "    }\n",
       "\n",
       "    .dataframe tbody tr th {\n",
       "        vertical-align: top;\n",
       "    }\n",
       "\n",
       "    .dataframe thead th {\n",
       "        text-align: right;\n",
       "    }\n",
       "</style>\n",
       "<table border=\"1\" class=\"dataframe\">\n",
       "  <thead>\n",
       "    <tr style=\"text-align: right;\">\n",
       "      <th></th>\n",
       "      <th>Open</th>\n",
       "      <th>High</th>\n",
       "      <th>Low</th>\n",
       "      <th>Close</th>\n",
       "      <th>WAP</th>\n",
       "      <th>No. of Shares</th>\n",
       "      <th>No. of Trades</th>\n",
       "      <th>Total Turnover</th>\n",
       "      <th>Deliverable Quantity</th>\n",
       "      <th>% Deli. Qty to Traded Qty</th>\n",
       "      <th>Spread H-L</th>\n",
       "      <th>Spread C-O</th>\n",
       "    </tr>\n",
       "  </thead>\n",
       "  <tbody>\n",
       "    <tr>\n",
       "      <th>count</th>\n",
       "      <td>969.00</td>\n",
       "      <td>969.00</td>\n",
       "      <td>969.00</td>\n",
       "      <td>969.00</td>\n",
       "      <td>969.00</td>\n",
       "      <td>969.00</td>\n",
       "      <td>969.00</td>\n",
       "      <td>9.690000e+02</td>\n",
       "      <td>969.00</td>\n",
       "      <td>969.00</td>\n",
       "      <td>969.00</td>\n",
       "      <td>969.00</td>\n",
       "    </tr>\n",
       "    <tr>\n",
       "      <th>mean</th>\n",
       "      <td>116.10</td>\n",
       "      <td>119.06</td>\n",
       "      <td>113.36</td>\n",
       "      <td>115.79</td>\n",
       "      <td>116.40</td>\n",
       "      <td>112007.89</td>\n",
       "      <td>1075.37</td>\n",
       "      <td>1.505910e+07</td>\n",
       "      <td>42672.27</td>\n",
       "      <td>39.39</td>\n",
       "      <td>5.69</td>\n",
       "      <td>-0.31</td>\n",
       "    </tr>\n",
       "    <tr>\n",
       "      <th>std</th>\n",
       "      <td>50.34</td>\n",
       "      <td>51.55</td>\n",
       "      <td>49.31</td>\n",
       "      <td>50.09</td>\n",
       "      <td>50.50</td>\n",
       "      <td>183534.21</td>\n",
       "      <td>1162.25</td>\n",
       "      <td>2.777618e+07</td>\n",
       "      <td>118523.82</td>\n",
       "      <td>19.86</td>\n",
       "      <td>3.67</td>\n",
       "      <td>3.76</td>\n",
       "    </tr>\n",
       "    <tr>\n",
       "      <th>min</th>\n",
       "      <td>32.00</td>\n",
       "      <td>34.60</td>\n",
       "      <td>30.40</td>\n",
       "      <td>31.75</td>\n",
       "      <td>32.47</td>\n",
       "      <td>685.00</td>\n",
       "      <td>16.00</td>\n",
       "      <td>2.963500e+04</td>\n",
       "      <td>365.00</td>\n",
       "      <td>3.29</td>\n",
       "      <td>0.45</td>\n",
       "      <td>-16.10</td>\n",
       "    </tr>\n",
       "    <tr>\n",
       "      <th>25%</th>\n",
       "      <td>76.85</td>\n",
       "      <td>78.35</td>\n",
       "      <td>74.80</td>\n",
       "      <td>76.40</td>\n",
       "      <td>77.10</td>\n",
       "      <td>18658.00</td>\n",
       "      <td>311.00</td>\n",
       "      <td>1.639905e+06</td>\n",
       "      <td>6776.00</td>\n",
       "      <td>25.46</td>\n",
       "      <td>2.90</td>\n",
       "      <td>-1.95</td>\n",
       "    </tr>\n",
       "    <tr>\n",
       "      <th>50%</th>\n",
       "      <td>98.55</td>\n",
       "      <td>101.00</td>\n",
       "      <td>95.55</td>\n",
       "      <td>98.25</td>\n",
       "      <td>98.55</td>\n",
       "      <td>49273.00</td>\n",
       "      <td>678.00</td>\n",
       "      <td>5.394107e+06</td>\n",
       "      <td>15515.00</td>\n",
       "      <td>37.93</td>\n",
       "      <td>4.75</td>\n",
       "      <td>-0.50</td>\n",
       "    </tr>\n",
       "    <tr>\n",
       "      <th>75%</th>\n",
       "      <td>147.90</td>\n",
       "      <td>152.00</td>\n",
       "      <td>145.05</td>\n",
       "      <td>147.55</td>\n",
       "      <td>148.64</td>\n",
       "      <td>114545.00</td>\n",
       "      <td>1481.00</td>\n",
       "      <td>1.564733e+07</td>\n",
       "      <td>38521.00</td>\n",
       "      <td>50.80</td>\n",
       "      <td>7.50</td>\n",
       "      <td>1.30</td>\n",
       "    </tr>\n",
       "    <tr>\n",
       "      <th>max</th>\n",
       "      <td>243.60</td>\n",
       "      <td>252.00</td>\n",
       "      <td>235.70</td>\n",
       "      <td>241.65</td>\n",
       "      <td>243.01</td>\n",
       "      <td>1650731.00</td>\n",
       "      <td>10534.00</td>\n",
       "      <td>3.221218e+08</td>\n",
       "      <td>1237197.00</td>\n",
       "      <td>99.89</td>\n",
       "      <td>25.00</td>\n",
       "      <td>16.60</td>\n",
       "    </tr>\n",
       "  </tbody>\n",
       "</table>\n",
       "</div>"
      ],
      "text/plain": [
       "         Open    High     Low   Close     WAP  No. of Shares  No. of Trades  \\\n",
       "count  969.00  969.00  969.00  969.00  969.00         969.00         969.00   \n",
       "mean   116.10  119.06  113.36  115.79  116.40      112007.89        1075.37   \n",
       "std     50.34   51.55   49.31   50.09   50.50      183534.21        1162.25   \n",
       "min     32.00   34.60   30.40   31.75   32.47         685.00          16.00   \n",
       "25%     76.85   78.35   74.80   76.40   77.10       18658.00         311.00   \n",
       "50%     98.55  101.00   95.55   98.25   98.55       49273.00         678.00   \n",
       "75%    147.90  152.00  145.05  147.55  148.64      114545.00        1481.00   \n",
       "max    243.60  252.00  235.70  241.65  243.01     1650731.00       10534.00   \n",
       "\n",
       "       Total Turnover  Deliverable Quantity  % Deli. Qty to Traded Qty  \\\n",
       "count    9.690000e+02                969.00                     969.00   \n",
       "mean     1.505910e+07              42672.27                      39.39   \n",
       "std      2.777618e+07             118523.82                      19.86   \n",
       "min      2.963500e+04                365.00                       3.29   \n",
       "25%      1.639905e+06               6776.00                      25.46   \n",
       "50%      5.394107e+06              15515.00                      37.93   \n",
       "75%      1.564733e+07              38521.00                      50.80   \n",
       "max      3.221218e+08            1237197.00                      99.89   \n",
       "\n",
       "       Spread H-L  Spread C-O  \n",
       "count      969.00      969.00  \n",
       "mean         5.69       -0.31  \n",
       "std          3.67        3.76  \n",
       "min          0.45      -16.10  \n",
       "25%          2.90       -1.95  \n",
       "50%          4.75       -0.50  \n",
       "75%          7.50        1.30  \n",
       "max         25.00       16.60  "
      ]
     },
     "execution_count": 6,
     "metadata": {},
     "output_type": "execute_result"
    }
   ],
   "source": [
    "df.describe().round(2)"
   ]
  },
  {
   "cell_type": "markdown",
   "metadata": {},
   "source": [
    "---\n",
    "<a name = Section5></a>\n",
    "# **5. Data Profiling**\n",
    "---\n",
    "\n",
    "- This section is emphasised on getting a report about the data.\n",
    "\n",
    "- You need to perform pandas profiling and get some observations out of it..."
   ]
  },
  {
   "cell_type": "code",
   "execution_count": 7,
   "metadata": {
    "scrolled": true
   },
   "outputs": [
    {
     "data": {
      "application/vnd.jupyter.widget-view+json": {
       "model_id": "fe53c05e271c4e2c87f380a7e2828d95",
       "version_major": 2,
       "version_minor": 0
      },
      "text/plain": [
       "HBox(children=(FloatProgress(value=0.0, description='Summarize dataset', max=27.0, style=ProgressStyle(descrip…"
      ]
     },
     "metadata": {},
     "output_type": "display_data"
    },
    {
     "name": "stdout",
     "output_type": "stream",
     "text": [
      "\n"
     ]
    },
    {
     "data": {
      "application/vnd.jupyter.widget-view+json": {
       "model_id": "4a1a3ca577e04382a748e1ade5730bfe",
       "version_major": 2,
       "version_minor": 0
      },
      "text/plain": [
       "HBox(children=(FloatProgress(value=0.0, description='Generate report structure', max=1.0, style=ProgressStyle(…"
      ]
     },
     "metadata": {},
     "output_type": "display_data"
    },
    {
     "name": "stdout",
     "output_type": "stream",
     "text": [
      "\n"
     ]
    },
    {
     "data": {
      "application/vnd.jupyter.widget-view+json": {
       "model_id": "7f9bc7b69dc245a788dccd470f3d9463",
       "version_major": 2,
       "version_minor": 0
      },
      "text/plain": [
       "HBox(children=(FloatProgress(value=0.0, description='Render HTML', max=1.0, style=ProgressStyle(description_wi…"
      ]
     },
     "metadata": {},
     "output_type": "display_data"
    },
    {
     "name": "stdout",
     "output_type": "stream",
     "text": [
      "\n"
     ]
    },
    {
     "data": {
      "application/vnd.jupyter.widget-view+json": {
       "model_id": "d0b2a4f4d9cc4a27ad17c7c2adefc050",
       "version_major": 2,
       "version_minor": 0
      },
      "text/plain": [
       "HBox(children=(FloatProgress(value=0.0, description='Export report to file', max=1.0, style=ProgressStyle(desc…"
      ]
     },
     "metadata": {},
     "output_type": "display_data"
    },
    {
     "name": "stdout",
     "output_type": "stream",
     "text": [
      "\n"
     ]
    }
   ],
   "source": [
    "profile = ProfileReport(df)\n",
    "profile.to_file(\"Profiling Output.html\")"
   ]
  },
  {
   "cell_type": "markdown",
   "metadata": {},
   "source": [
    "---\n",
    "<a name = Section6></a>\n",
    "# **6. Data Pre-Processing**\n",
    "---\n",
    "\n",
    "- This section is emphasised on performing data manipulation over unstructured data for further processing and analysis.\n",
    "\n",
    "- To modify unstructured data to strucuted data you need to verify and manipulate the integrity of the data by:\n",
    "  - Handling missing data,\n",
    "\n",
    "  - Handling redundant data,\n",
    "\n",
    "  - Handling inconsistent data,\n",
    "\n",
    "  - Handling outliers,\n",
    "\n",
    "  - Handling typos\n",
    "  \n",
    "  - Dropping and adding features"
   ]
  },
  {
   "cell_type": "code",
   "execution_count": 8,
   "metadata": {
    "scrolled": true
   },
   "outputs": [
    {
     "data": {
      "text/html": [
       "<div>\n",
       "<style scoped>\n",
       "    .dataframe tbody tr th:only-of-type {\n",
       "        vertical-align: middle;\n",
       "    }\n",
       "\n",
       "    .dataframe tbody tr th {\n",
       "        vertical-align: top;\n",
       "    }\n",
       "\n",
       "    .dataframe thead th {\n",
       "        text-align: right;\n",
       "    }\n",
       "</style>\n",
       "<table border=\"1\" class=\"dataframe\">\n",
       "  <thead>\n",
       "    <tr style=\"text-align: right;\">\n",
       "      <th></th>\n",
       "      <th>Open</th>\n",
       "      <th>High</th>\n",
       "      <th>Low</th>\n",
       "      <th>Close</th>\n",
       "      <th>WAP</th>\n",
       "      <th>No. of Shares</th>\n",
       "      <th>No. of Trades</th>\n",
       "      <th>Total Turnover</th>\n",
       "      <th>Deliverable Quantity</th>\n",
       "      <th>% Deli. Qty to Traded Qty</th>\n",
       "      <th>Spread H-L</th>\n",
       "      <th>Spread C-O</th>\n",
       "    </tr>\n",
       "    <tr>\n",
       "      <th>Date</th>\n",
       "      <th></th>\n",
       "      <th></th>\n",
       "      <th></th>\n",
       "      <th></th>\n",
       "      <th></th>\n",
       "      <th></th>\n",
       "      <th></th>\n",
       "      <th></th>\n",
       "      <th></th>\n",
       "      <th></th>\n",
       "      <th></th>\n",
       "      <th></th>\n",
       "    </tr>\n",
       "  </thead>\n",
       "  <tbody>\n",
       "    <tr>\n",
       "      <th>2017-02-21</th>\n",
       "      <td>105.25</td>\n",
       "      <td>108.9</td>\n",
       "      <td>105.20</td>\n",
       "      <td>105.75</td>\n",
       "      <td>106.33</td>\n",
       "      <td>68764.0</td>\n",
       "      <td>753.0</td>\n",
       "      <td>7311931.0</td>\n",
       "      <td>26460.0</td>\n",
       "      <td>38.48</td>\n",
       "      <td>3.70</td>\n",
       "      <td>0.50</td>\n",
       "    </tr>\n",
       "    <tr>\n",
       "      <th>2017-02-22</th>\n",
       "      <td>106.00</td>\n",
       "      <td>111.0</td>\n",
       "      <td>105.80</td>\n",
       "      <td>107.15</td>\n",
       "      <td>108.48</td>\n",
       "      <td>94920.0</td>\n",
       "      <td>1182.0</td>\n",
       "      <td>10296999.0</td>\n",
       "      <td>52781.0</td>\n",
       "      <td>55.61</td>\n",
       "      <td>5.20</td>\n",
       "      <td>1.15</td>\n",
       "    </tr>\n",
       "    <tr>\n",
       "      <th>2017-02-23</th>\n",
       "      <td>106.95</td>\n",
       "      <td>111.0</td>\n",
       "      <td>106.95</td>\n",
       "      <td>109.60</td>\n",
       "      <td>109.40</td>\n",
       "      <td>149331.0</td>\n",
       "      <td>1404.0</td>\n",
       "      <td>16336241.0</td>\n",
       "      <td>82039.0</td>\n",
       "      <td>54.94</td>\n",
       "      <td>4.05</td>\n",
       "      <td>2.65</td>\n",
       "    </tr>\n",
       "    <tr>\n",
       "      <th>2017-02-27</th>\n",
       "      <td>110.00</td>\n",
       "      <td>114.4</td>\n",
       "      <td>109.10</td>\n",
       "      <td>111.90</td>\n",
       "      <td>112.00</td>\n",
       "      <td>185009.0</td>\n",
       "      <td>1914.0</td>\n",
       "      <td>20720743.0</td>\n",
       "      <td>42478.0</td>\n",
       "      <td>22.96</td>\n",
       "      <td>5.30</td>\n",
       "      <td>1.90</td>\n",
       "    </tr>\n",
       "    <tr>\n",
       "      <th>2017-02-28</th>\n",
       "      <td>113.00</td>\n",
       "      <td>115.7</td>\n",
       "      <td>113.00</td>\n",
       "      <td>114.60</td>\n",
       "      <td>114.80</td>\n",
       "      <td>63833.0</td>\n",
       "      <td>563.0</td>\n",
       "      <td>7327924.0</td>\n",
       "      <td>24198.0</td>\n",
       "      <td>37.91</td>\n",
       "      <td>2.70</td>\n",
       "      <td>1.60</td>\n",
       "    </tr>\n",
       "  </tbody>\n",
       "</table>\n",
       "</div>"
      ],
      "text/plain": [
       "              Open   High     Low   Close     WAP  No. of Shares  \\\n",
       "Date                                                               \n",
       "2017-02-21  105.25  108.9  105.20  105.75  106.33        68764.0   \n",
       "2017-02-22  106.00  111.0  105.80  107.15  108.48        94920.0   \n",
       "2017-02-23  106.95  111.0  106.95  109.60  109.40       149331.0   \n",
       "2017-02-27  110.00  114.4  109.10  111.90  112.00       185009.0   \n",
       "2017-02-28  113.00  115.7  113.00  114.60  114.80        63833.0   \n",
       "\n",
       "            No. of Trades  Total Turnover  Deliverable Quantity  \\\n",
       "Date                                                              \n",
       "2017-02-21          753.0       7311931.0               26460.0   \n",
       "2017-02-22         1182.0      10296999.0               52781.0   \n",
       "2017-02-23         1404.0      16336241.0               82039.0   \n",
       "2017-02-27         1914.0      20720743.0               42478.0   \n",
       "2017-02-28          563.0       7327924.0               24198.0   \n",
       "\n",
       "            % Deli. Qty to Traded Qty  Spread H-L  Spread C-O  \n",
       "Date                                                           \n",
       "2017-02-21                      38.48        3.70        0.50  \n",
       "2017-02-22                      55.61        5.20        1.15  \n",
       "2017-02-23                      54.94        4.05        2.65  \n",
       "2017-02-27                      22.96        5.30        1.90  \n",
       "2017-02-28                      37.91        2.70        1.60  "
      ]
     },
     "execution_count": 8,
     "metadata": {},
     "output_type": "execute_result"
    }
   ],
   "source": [
    "df.head()"
   ]
  },
  {
   "cell_type": "markdown",
   "metadata": {},
   "source": [
    "#### Adding 20 days and 50 days moving average to the dataframe. ####"
   ]
  },
  {
   "cell_type": "code",
   "execution_count": 9,
   "metadata": {},
   "outputs": [],
   "source": [
    "df['MA20'] = df.Close.rolling(window=20).mean()\n",
    "df['MA50'] = df.Close.rolling(window=50).mean()"
   ]
  },
  {
   "cell_type": "markdown",
   "metadata": {},
   "source": [
    "#### Making a copy of dataframe."
   ]
  },
  {
   "cell_type": "code",
   "execution_count": 10,
   "metadata": {
    "scrolled": true
   },
   "outputs": [
    {
     "data": {
      "text/html": [
       "<div>\n",
       "<style scoped>\n",
       "    .dataframe tbody tr th:only-of-type {\n",
       "        vertical-align: middle;\n",
       "    }\n",
       "\n",
       "    .dataframe tbody tr th {\n",
       "        vertical-align: top;\n",
       "    }\n",
       "\n",
       "    .dataframe thead th {\n",
       "        text-align: right;\n",
       "    }\n",
       "</style>\n",
       "<table border=\"1\" class=\"dataframe\">\n",
       "  <thead>\n",
       "    <tr style=\"text-align: right;\">\n",
       "      <th></th>\n",
       "      <th>Open</th>\n",
       "      <th>High</th>\n",
       "      <th>Low</th>\n",
       "      <th>Close</th>\n",
       "      <th>WAP</th>\n",
       "      <th>No. of Shares</th>\n",
       "      <th>No. of Trades</th>\n",
       "      <th>Total Turnover</th>\n",
       "      <th>Deliverable Quantity</th>\n",
       "      <th>% Deli. Qty to Traded Qty</th>\n",
       "      <th>Spread H-L</th>\n",
       "      <th>Spread C-O</th>\n",
       "      <th>MA20</th>\n",
       "      <th>MA50</th>\n",
       "    </tr>\n",
       "    <tr>\n",
       "      <th>Date</th>\n",
       "      <th></th>\n",
       "      <th></th>\n",
       "      <th></th>\n",
       "      <th></th>\n",
       "      <th></th>\n",
       "      <th></th>\n",
       "      <th></th>\n",
       "      <th></th>\n",
       "      <th></th>\n",
       "      <th></th>\n",
       "      <th></th>\n",
       "      <th></th>\n",
       "      <th></th>\n",
       "      <th></th>\n",
       "    </tr>\n",
       "  </thead>\n",
       "  <tbody>\n",
       "    <tr>\n",
       "      <th>2017-02-21</th>\n",
       "      <td>105.25</td>\n",
       "      <td>108.9</td>\n",
       "      <td>105.20</td>\n",
       "      <td>105.75</td>\n",
       "      <td>106.33</td>\n",
       "      <td>68764.0</td>\n",
       "      <td>753.0</td>\n",
       "      <td>7311931.0</td>\n",
       "      <td>26460.0</td>\n",
       "      <td>38.48</td>\n",
       "      <td>3.70</td>\n",
       "      <td>0.50</td>\n",
       "      <td>NaN</td>\n",
       "      <td>NaN</td>\n",
       "    </tr>\n",
       "    <tr>\n",
       "      <th>2017-02-22</th>\n",
       "      <td>106.00</td>\n",
       "      <td>111.0</td>\n",
       "      <td>105.80</td>\n",
       "      <td>107.15</td>\n",
       "      <td>108.48</td>\n",
       "      <td>94920.0</td>\n",
       "      <td>1182.0</td>\n",
       "      <td>10296999.0</td>\n",
       "      <td>52781.0</td>\n",
       "      <td>55.61</td>\n",
       "      <td>5.20</td>\n",
       "      <td>1.15</td>\n",
       "      <td>NaN</td>\n",
       "      <td>NaN</td>\n",
       "    </tr>\n",
       "    <tr>\n",
       "      <th>2017-02-23</th>\n",
       "      <td>106.95</td>\n",
       "      <td>111.0</td>\n",
       "      <td>106.95</td>\n",
       "      <td>109.60</td>\n",
       "      <td>109.40</td>\n",
       "      <td>149331.0</td>\n",
       "      <td>1404.0</td>\n",
       "      <td>16336241.0</td>\n",
       "      <td>82039.0</td>\n",
       "      <td>54.94</td>\n",
       "      <td>4.05</td>\n",
       "      <td>2.65</td>\n",
       "      <td>NaN</td>\n",
       "      <td>NaN</td>\n",
       "    </tr>\n",
       "    <tr>\n",
       "      <th>2017-02-27</th>\n",
       "      <td>110.00</td>\n",
       "      <td>114.4</td>\n",
       "      <td>109.10</td>\n",
       "      <td>111.90</td>\n",
       "      <td>112.00</td>\n",
       "      <td>185009.0</td>\n",
       "      <td>1914.0</td>\n",
       "      <td>20720743.0</td>\n",
       "      <td>42478.0</td>\n",
       "      <td>22.96</td>\n",
       "      <td>5.30</td>\n",
       "      <td>1.90</td>\n",
       "      <td>NaN</td>\n",
       "      <td>NaN</td>\n",
       "    </tr>\n",
       "    <tr>\n",
       "      <th>2017-02-28</th>\n",
       "      <td>113.00</td>\n",
       "      <td>115.7</td>\n",
       "      <td>113.00</td>\n",
       "      <td>114.60</td>\n",
       "      <td>114.80</td>\n",
       "      <td>63833.0</td>\n",
       "      <td>563.0</td>\n",
       "      <td>7327924.0</td>\n",
       "      <td>24198.0</td>\n",
       "      <td>37.91</td>\n",
       "      <td>2.70</td>\n",
       "      <td>1.60</td>\n",
       "      <td>NaN</td>\n",
       "      <td>NaN</td>\n",
       "    </tr>\n",
       "  </tbody>\n",
       "</table>\n",
       "</div>"
      ],
      "text/plain": [
       "              Open   High     Low   Close     WAP  No. of Shares  \\\n",
       "Date                                                               \n",
       "2017-02-21  105.25  108.9  105.20  105.75  106.33        68764.0   \n",
       "2017-02-22  106.00  111.0  105.80  107.15  108.48        94920.0   \n",
       "2017-02-23  106.95  111.0  106.95  109.60  109.40       149331.0   \n",
       "2017-02-27  110.00  114.4  109.10  111.90  112.00       185009.0   \n",
       "2017-02-28  113.00  115.7  113.00  114.60  114.80        63833.0   \n",
       "\n",
       "            No. of Trades  Total Turnover  Deliverable Quantity  \\\n",
       "Date                                                              \n",
       "2017-02-21          753.0       7311931.0               26460.0   \n",
       "2017-02-22         1182.0      10296999.0               52781.0   \n",
       "2017-02-23         1404.0      16336241.0               82039.0   \n",
       "2017-02-27         1914.0      20720743.0               42478.0   \n",
       "2017-02-28          563.0       7327924.0               24198.0   \n",
       "\n",
       "            % Deli. Qty to Traded Qty  Spread H-L  Spread C-O  MA20  MA50  \n",
       "Date                                                                       \n",
       "2017-02-21                      38.48        3.70        0.50   NaN   NaN  \n",
       "2017-02-22                      55.61        5.20        1.15   NaN   NaN  \n",
       "2017-02-23                      54.94        4.05        2.65   NaN   NaN  \n",
       "2017-02-27                      22.96        5.30        1.90   NaN   NaN  \n",
       "2017-02-28                      37.91        2.70        1.60   NaN   NaN  "
      ]
     },
     "execution_count": 10,
     "metadata": {},
     "output_type": "execute_result"
    }
   ],
   "source": [
    "df_copy = pd.DataFrame(df) \n",
    "df_copy.head()"
   ]
  },
  {
   "cell_type": "markdown",
   "metadata": {},
   "source": [
    "#### Add new feature \"Trend\" to find out daily up or downward movement for the stock"
   ]
  },
  {
   "cell_type": "code",
   "execution_count": 11,
   "metadata": {},
   "outputs": [],
   "source": [
    "df['Trend'] = \"\"\n",
    "for i in df.index:\n",
    "    if df['Spread C-O'][i] >= 0:\n",
    "        df['Trend'][i] = \"Up\"\n",
    "    else:\n",
    "        df['Trend'][i] = \"Down\""
   ]
  },
  {
   "cell_type": "code",
   "execution_count": 12,
   "metadata": {
    "scrolled": true
   },
   "outputs": [
    {
     "data": {
      "text/html": [
       "<div>\n",
       "<style scoped>\n",
       "    .dataframe tbody tr th:only-of-type {\n",
       "        vertical-align: middle;\n",
       "    }\n",
       "\n",
       "    .dataframe tbody tr th {\n",
       "        vertical-align: top;\n",
       "    }\n",
       "\n",
       "    .dataframe thead th {\n",
       "        text-align: right;\n",
       "    }\n",
       "</style>\n",
       "<table border=\"1\" class=\"dataframe\">\n",
       "  <thead>\n",
       "    <tr style=\"text-align: right;\">\n",
       "      <th></th>\n",
       "      <th>Open</th>\n",
       "      <th>High</th>\n",
       "      <th>Low</th>\n",
       "      <th>Close</th>\n",
       "      <th>WAP</th>\n",
       "      <th>No. of Shares</th>\n",
       "      <th>No. of Trades</th>\n",
       "      <th>Total Turnover</th>\n",
       "      <th>Deliverable Quantity</th>\n",
       "      <th>% Deli. Qty to Traded Qty</th>\n",
       "      <th>Spread H-L</th>\n",
       "      <th>Spread C-O</th>\n",
       "      <th>MA20</th>\n",
       "      <th>MA50</th>\n",
       "      <th>Trend</th>\n",
       "    </tr>\n",
       "    <tr>\n",
       "      <th>Date</th>\n",
       "      <th></th>\n",
       "      <th></th>\n",
       "      <th></th>\n",
       "      <th></th>\n",
       "      <th></th>\n",
       "      <th></th>\n",
       "      <th></th>\n",
       "      <th></th>\n",
       "      <th></th>\n",
       "      <th></th>\n",
       "      <th></th>\n",
       "      <th></th>\n",
       "      <th></th>\n",
       "      <th></th>\n",
       "      <th></th>\n",
       "    </tr>\n",
       "  </thead>\n",
       "  <tbody>\n",
       "    <tr>\n",
       "      <th>2017-02-21</th>\n",
       "      <td>105.25</td>\n",
       "      <td>108.9</td>\n",
       "      <td>105.20</td>\n",
       "      <td>105.75</td>\n",
       "      <td>106.33</td>\n",
       "      <td>68764.0</td>\n",
       "      <td>753.0</td>\n",
       "      <td>7311931.0</td>\n",
       "      <td>26460.0</td>\n",
       "      <td>38.48</td>\n",
       "      <td>3.70</td>\n",
       "      <td>0.50</td>\n",
       "      <td>NaN</td>\n",
       "      <td>NaN</td>\n",
       "      <td>Up</td>\n",
       "    </tr>\n",
       "    <tr>\n",
       "      <th>2017-02-22</th>\n",
       "      <td>106.00</td>\n",
       "      <td>111.0</td>\n",
       "      <td>105.80</td>\n",
       "      <td>107.15</td>\n",
       "      <td>108.48</td>\n",
       "      <td>94920.0</td>\n",
       "      <td>1182.0</td>\n",
       "      <td>10296999.0</td>\n",
       "      <td>52781.0</td>\n",
       "      <td>55.61</td>\n",
       "      <td>5.20</td>\n",
       "      <td>1.15</td>\n",
       "      <td>NaN</td>\n",
       "      <td>NaN</td>\n",
       "      <td>Up</td>\n",
       "    </tr>\n",
       "    <tr>\n",
       "      <th>2017-02-23</th>\n",
       "      <td>106.95</td>\n",
       "      <td>111.0</td>\n",
       "      <td>106.95</td>\n",
       "      <td>109.60</td>\n",
       "      <td>109.40</td>\n",
       "      <td>149331.0</td>\n",
       "      <td>1404.0</td>\n",
       "      <td>16336241.0</td>\n",
       "      <td>82039.0</td>\n",
       "      <td>54.94</td>\n",
       "      <td>4.05</td>\n",
       "      <td>2.65</td>\n",
       "      <td>NaN</td>\n",
       "      <td>NaN</td>\n",
       "      <td>Up</td>\n",
       "    </tr>\n",
       "    <tr>\n",
       "      <th>2017-02-27</th>\n",
       "      <td>110.00</td>\n",
       "      <td>114.4</td>\n",
       "      <td>109.10</td>\n",
       "      <td>111.90</td>\n",
       "      <td>112.00</td>\n",
       "      <td>185009.0</td>\n",
       "      <td>1914.0</td>\n",
       "      <td>20720743.0</td>\n",
       "      <td>42478.0</td>\n",
       "      <td>22.96</td>\n",
       "      <td>5.30</td>\n",
       "      <td>1.90</td>\n",
       "      <td>NaN</td>\n",
       "      <td>NaN</td>\n",
       "      <td>Up</td>\n",
       "    </tr>\n",
       "    <tr>\n",
       "      <th>2017-02-28</th>\n",
       "      <td>113.00</td>\n",
       "      <td>115.7</td>\n",
       "      <td>113.00</td>\n",
       "      <td>114.60</td>\n",
       "      <td>114.80</td>\n",
       "      <td>63833.0</td>\n",
       "      <td>563.0</td>\n",
       "      <td>7327924.0</td>\n",
       "      <td>24198.0</td>\n",
       "      <td>37.91</td>\n",
       "      <td>2.70</td>\n",
       "      <td>1.60</td>\n",
       "      <td>NaN</td>\n",
       "      <td>NaN</td>\n",
       "      <td>Up</td>\n",
       "    </tr>\n",
       "  </tbody>\n",
       "</table>\n",
       "</div>"
      ],
      "text/plain": [
       "              Open   High     Low   Close     WAP  No. of Shares  \\\n",
       "Date                                                               \n",
       "2017-02-21  105.25  108.9  105.20  105.75  106.33        68764.0   \n",
       "2017-02-22  106.00  111.0  105.80  107.15  108.48        94920.0   \n",
       "2017-02-23  106.95  111.0  106.95  109.60  109.40       149331.0   \n",
       "2017-02-27  110.00  114.4  109.10  111.90  112.00       185009.0   \n",
       "2017-02-28  113.00  115.7  113.00  114.60  114.80        63833.0   \n",
       "\n",
       "            No. of Trades  Total Turnover  Deliverable Quantity  \\\n",
       "Date                                                              \n",
       "2017-02-21          753.0       7311931.0               26460.0   \n",
       "2017-02-22         1182.0      10296999.0               52781.0   \n",
       "2017-02-23         1404.0      16336241.0               82039.0   \n",
       "2017-02-27         1914.0      20720743.0               42478.0   \n",
       "2017-02-28          563.0       7327924.0               24198.0   \n",
       "\n",
       "            % Deli. Qty to Traded Qty  Spread H-L  Spread C-O  MA20  MA50  \\\n",
       "Date                                                                        \n",
       "2017-02-21                      38.48        3.70        0.50   NaN   NaN   \n",
       "2017-02-22                      55.61        5.20        1.15   NaN   NaN   \n",
       "2017-02-23                      54.94        4.05        2.65   NaN   NaN   \n",
       "2017-02-27                      22.96        5.30        1.90   NaN   NaN   \n",
       "2017-02-28                      37.91        2.70        1.60   NaN   NaN   \n",
       "\n",
       "           Trend  \n",
       "Date              \n",
       "2017-02-21    Up  \n",
       "2017-02-22    Up  \n",
       "2017-02-23    Up  \n",
       "2017-02-27    Up  \n",
       "2017-02-28    Up  "
      ]
     },
     "execution_count": 12,
     "metadata": {},
     "output_type": "execute_result"
    }
   ],
   "source": [
    "df.head()"
   ]
  },
  {
   "cell_type": "markdown",
   "metadata": {},
   "source": [
    "---\n",
    "<a name = Section7></a>\n",
    "# **7. Data Post-Profiling**\n",
    "---\n",
    "\n",
    "- This section is emphasised on getting a report about the data after the data manipulation.\n",
    "\n",
    "- You may end up observing some new changes, so keep it under check and make right observations."
   ]
  },
  {
   "cell_type": "code",
   "execution_count": 13,
   "metadata": {},
   "outputs": [
    {
     "data": {
      "text/html": [
       "<div>\n",
       "<style scoped>\n",
       "    .dataframe tbody tr th:only-of-type {\n",
       "        vertical-align: middle;\n",
       "    }\n",
       "\n",
       "    .dataframe tbody tr th {\n",
       "        vertical-align: top;\n",
       "    }\n",
       "\n",
       "    .dataframe thead th {\n",
       "        text-align: right;\n",
       "    }\n",
       "</style>\n",
       "<table border=\"1\" class=\"dataframe\">\n",
       "  <thead>\n",
       "    <tr style=\"text-align: right;\">\n",
       "      <th></th>\n",
       "      <th>Open</th>\n",
       "      <th>High</th>\n",
       "      <th>Low</th>\n",
       "      <th>Close</th>\n",
       "      <th>WAP</th>\n",
       "      <th>No. of Shares</th>\n",
       "      <th>No. of Trades</th>\n",
       "      <th>Total Turnover</th>\n",
       "      <th>Deliverable Quantity</th>\n",
       "      <th>% Deli. Qty to Traded Qty</th>\n",
       "      <th>Spread H-L</th>\n",
       "      <th>Spread C-O</th>\n",
       "      <th>MA20</th>\n",
       "      <th>MA50</th>\n",
       "      <th>Trend</th>\n",
       "    </tr>\n",
       "    <tr>\n",
       "      <th>Date</th>\n",
       "      <th></th>\n",
       "      <th></th>\n",
       "      <th></th>\n",
       "      <th></th>\n",
       "      <th></th>\n",
       "      <th></th>\n",
       "      <th></th>\n",
       "      <th></th>\n",
       "      <th></th>\n",
       "      <th></th>\n",
       "      <th></th>\n",
       "      <th></th>\n",
       "      <th></th>\n",
       "      <th></th>\n",
       "      <th></th>\n",
       "    </tr>\n",
       "  </thead>\n",
       "  <tbody>\n",
       "    <tr>\n",
       "      <th>2017-05-08</th>\n",
       "      <td>124.10</td>\n",
       "      <td>127.5</td>\n",
       "      <td>120.75</td>\n",
       "      <td>125.50</td>\n",
       "      <td>124.46</td>\n",
       "      <td>38122.0</td>\n",
       "      <td>545.0</td>\n",
       "      <td>4744600.0</td>\n",
       "      <td>18212.0</td>\n",
       "      <td>47.77</td>\n",
       "      <td>6.75</td>\n",
       "      <td>1.40</td>\n",
       "      <td>137.7075</td>\n",
       "      <td>133.797</td>\n",
       "      <td>Up</td>\n",
       "    </tr>\n",
       "    <tr>\n",
       "      <th>2017-05-09</th>\n",
       "      <td>126.90</td>\n",
       "      <td>140.0</td>\n",
       "      <td>126.00</td>\n",
       "      <td>134.90</td>\n",
       "      <td>133.92</td>\n",
       "      <td>204606.0</td>\n",
       "      <td>2841.0</td>\n",
       "      <td>27401593.0</td>\n",
       "      <td>87059.0</td>\n",
       "      <td>42.55</td>\n",
       "      <td>14.00</td>\n",
       "      <td>8.00</td>\n",
       "      <td>137.1325</td>\n",
       "      <td>134.380</td>\n",
       "      <td>Up</td>\n",
       "    </tr>\n",
       "    <tr>\n",
       "      <th>2017-05-10</th>\n",
       "      <td>135.45</td>\n",
       "      <td>142.5</td>\n",
       "      <td>132.95</td>\n",
       "      <td>141.85</td>\n",
       "      <td>139.70</td>\n",
       "      <td>228259.0</td>\n",
       "      <td>2281.0</td>\n",
       "      <td>31888138.0</td>\n",
       "      <td>33854.0</td>\n",
       "      <td>14.83</td>\n",
       "      <td>9.55</td>\n",
       "      <td>6.40</td>\n",
       "      <td>136.9375</td>\n",
       "      <td>135.074</td>\n",
       "      <td>Up</td>\n",
       "    </tr>\n",
       "    <tr>\n",
       "      <th>2017-05-11</th>\n",
       "      <td>142.00</td>\n",
       "      <td>149.4</td>\n",
       "      <td>140.80</td>\n",
       "      <td>147.05</td>\n",
       "      <td>146.08</td>\n",
       "      <td>181242.0</td>\n",
       "      <td>1679.0</td>\n",
       "      <td>26476206.0</td>\n",
       "      <td>34139.0</td>\n",
       "      <td>18.84</td>\n",
       "      <td>8.60</td>\n",
       "      <td>5.05</td>\n",
       "      <td>136.9950</td>\n",
       "      <td>135.823</td>\n",
       "      <td>Up</td>\n",
       "    </tr>\n",
       "    <tr>\n",
       "      <th>2017-05-12</th>\n",
       "      <td>144.50</td>\n",
       "      <td>152.0</td>\n",
       "      <td>144.50</td>\n",
       "      <td>148.20</td>\n",
       "      <td>149.75</td>\n",
       "      <td>159142.0</td>\n",
       "      <td>1523.0</td>\n",
       "      <td>23830857.0</td>\n",
       "      <td>29723.0</td>\n",
       "      <td>18.68</td>\n",
       "      <td>7.50</td>\n",
       "      <td>3.70</td>\n",
       "      <td>137.1675</td>\n",
       "      <td>136.549</td>\n",
       "      <td>Up</td>\n",
       "    </tr>\n",
       "  </tbody>\n",
       "</table>\n",
       "</div>"
      ],
      "text/plain": [
       "              Open   High     Low   Close     WAP  No. of Shares  \\\n",
       "Date                                                               \n",
       "2017-05-08  124.10  127.5  120.75  125.50  124.46        38122.0   \n",
       "2017-05-09  126.90  140.0  126.00  134.90  133.92       204606.0   \n",
       "2017-05-10  135.45  142.5  132.95  141.85  139.70       228259.0   \n",
       "2017-05-11  142.00  149.4  140.80  147.05  146.08       181242.0   \n",
       "2017-05-12  144.50  152.0  144.50  148.20  149.75       159142.0   \n",
       "\n",
       "            No. of Trades  Total Turnover  Deliverable Quantity  \\\n",
       "Date                                                              \n",
       "2017-05-08          545.0       4744600.0               18212.0   \n",
       "2017-05-09         2841.0      27401593.0               87059.0   \n",
       "2017-05-10         2281.0      31888138.0               33854.0   \n",
       "2017-05-11         1679.0      26476206.0               34139.0   \n",
       "2017-05-12         1523.0      23830857.0               29723.0   \n",
       "\n",
       "            % Deli. Qty to Traded Qty  Spread H-L  Spread C-O      MA20  \\\n",
       "Date                                                                      \n",
       "2017-05-08                      47.77        6.75        1.40  137.7075   \n",
       "2017-05-09                      42.55       14.00        8.00  137.1325   \n",
       "2017-05-10                      14.83        9.55        6.40  136.9375   \n",
       "2017-05-11                      18.84        8.60        5.05  136.9950   \n",
       "2017-05-12                      18.68        7.50        3.70  137.1675   \n",
       "\n",
       "               MA50 Trend  \n",
       "Date                       \n",
       "2017-05-08  133.797    Up  \n",
       "2017-05-09  134.380    Up  \n",
       "2017-05-10  135.074    Up  \n",
       "2017-05-11  135.823    Up  \n",
       "2017-05-12  136.549    Up  "
      ]
     },
     "execution_count": 13,
     "metadata": {},
     "output_type": "execute_result"
    }
   ],
   "source": [
    "df = df.dropna()\n",
    "df.head()"
   ]
  },
  {
   "cell_type": "markdown",
   "metadata": {},
   "source": [
    "---\n",
    "<a name = Section8></a>\n",
    "# **8. Exploratory Data Analysis**\n",
    "---\n",
    "\n",
    "- This section is emphasised on asking the right questions and perform analysis using the data.\n",
    "\n",
    "- Note that there is no limit how deep you can go, but make sure not to get distracted from right track."
   ]
  },
  {
   "cell_type": "markdown",
   "metadata": {},
   "source": [
    "#### Reset the index"
   ]
  },
  {
   "cell_type": "code",
   "execution_count": 14,
   "metadata": {},
   "outputs": [],
   "source": [
    "df = df.reset_index()"
   ]
  },
  {
   "cell_type": "code",
   "execution_count": 94,
   "metadata": {
    "scrolled": true
   },
   "outputs": [
    {
     "data": {
      "image/png": "[encoded data removed]",
      "text/plain": [
       "<Figure size 864x504 with 1 Axes>"
      ]
     },
     "metadata": {
      "needs_background": "light"
     },
     "output_type": "display_data"
    }
   ],
   "source": [
    "plt.figure(figsize=(12,7))\n",
    "sns.lineplot(data=df, x='Date', y='Close', color='red')\n",
    "\n",
    "plt.title('Price movement of Jindal Stainless (HISAR) Ltd. from 2017 to 2021')\n",
    "plt.savefig('Price.png')"
   ]
  },
  {
   "cell_type": "code",
   "execution_count": 93,
   "metadata": {},
   "outputs": [
    {
     "data": {
      "image/png": "[encoded data removed]",
      "text/plain": [
       "<Figure size 1080x576 with 1 Axes>"
      ]
     },
     "metadata": {
      "needs_background": "light"
     },
     "output_type": "display_data"
    }
   ],
   "source": [
    "plt.figure(figsize=(15,8))\n",
    "plt.plot(df.Date, df.Close, label = \"Price\")\n",
    "plt.plot(df.Date, df.MA20, label = \"20 Day MA\")\n",
    "plt.plot(df.Date, df.MA50, label = \"50 Day MA\")\n",
    "plt.xlabel('Date')\n",
    "plt.ylabel('Price')\n",
    "plt.title('Stock Price with 20 day and 50 day Moving Average')\n",
    "plt.savefig('Prive vs MA.png')\n",
    "plt.legend()\n",
    "plt.show()"
   ]
  },
  {
   "cell_type": "code",
   "execution_count": 101,
   "metadata": {
    "scrolled": true
   },
   "outputs": [
    {
     "data": {
      "image/png": "[encoded data removed]",
      "text/plain": [
       "<Figure size 1080x504 with 1 Axes>"
      ]
     },
     "metadata": {},
     "output_type": "display_data"
    }
   ],
   "source": [
    "space= np.ones(2)/21\n",
    "df['Trend'].value_counts().plot(kind='pie', figsize=(15,7), fontsize=13, explode=space,legend=True,autopct='%3.1f%%',shadow=True)\n",
    "plt.ylabel('Trend')\n",
    "plt.title('Up and Down Trend occurances till date')\n",
    "plt.savefig('Pie.png')\n",
    "plt.show()"
   ]
  },
  {
   "cell_type": "markdown",
   "metadata": {},
   "source": [
    "This chart depicts that data is not imbalanced."
   ]
  },
  {
   "cell_type": "code",
   "execution_count": 17,
   "metadata": {},
   "outputs": [
    {
     "data": {
      "image/png": "[encoded data removed]",
      "text/plain": [
       "<Figure size 720x576 with 2 Axes>"
      ]
     },
     "metadata": {
      "needs_background": "light"
     },
     "output_type": "display_data"
    }
   ],
   "source": [
    "price_corr = df.corr()\n",
    "plt.figure(figsize=(10,8))\n",
    "sns.heatmap(price_corr, annot=True, cmap='viridis')\n",
    "plt.savefig('HeatMap.png')\n",
    "plt.show()"
   ]
  },
  {
   "cell_type": "markdown",
   "metadata": {},
   "source": [
    "---\n",
    "<a name = Section9></a>\n",
    "# **9. Machine Learning Algorithms and Execution**\n",
    "---"
   ]
  },
  {
   "cell_type": "markdown",
   "metadata": {},
   "source": [
    "#### Separate X and y to apply machine learning Algorithms. <br>\n",
    "##### Here both Regression and Classification are applied to the dataset. Classification to find out trend and Regression to predict Closing price of the stock. "
   ]
  },
  {
   "cell_type": "markdown",
   "metadata": {},
   "source": [
    "Create y for Regression Algorithms for Closing Price. "
   ]
  },
  {
   "cell_type": "code",
   "execution_count": 18,
   "metadata": {
    "scrolled": true
   },
   "outputs": [
    {
     "data": {
      "text/plain": [
       "0    125.50\n",
       "1    134.90\n",
       "2    141.85\n",
       "3    147.05\n",
       "4    148.20\n",
       "Name: Close, dtype: float64"
      ]
     },
     "execution_count": 18,
     "metadata": {},
     "output_type": "execute_result"
    }
   ],
   "source": [
    "y_Close = df['Close'] \n",
    "y_Close.head()"
   ]
  },
  {
   "cell_type": "markdown",
   "metadata": {},
   "source": [
    "Create y for Classification Algorithms for Trend of the Stock. "
   ]
  },
  {
   "cell_type": "code",
   "execution_count": 19,
   "metadata": {
    "scrolled": true
   },
   "outputs": [
    {
     "data": {
      "text/plain": [
       "0    Up\n",
       "1    Up\n",
       "2    Up\n",
       "3    Up\n",
       "4    Up\n",
       "Name: Trend, dtype: object"
      ]
     },
     "execution_count": 19,
     "metadata": {},
     "output_type": "execute_result"
    }
   ],
   "source": [
    "y_Trend = df['Trend']\n",
    "y_Trend.head()"
   ]
  },
  {
   "cell_type": "markdown",
   "metadata": {},
   "source": [
    "Create X using dropping following features. <br>\n",
    "Date, Close, Trend, Spread C-O, Total Turnover, Deliverable Quantity, % Deli. Qty to Traded Qty, Spread H-L, No. of Shares, No. of Trades"
   ]
  },
  {
   "cell_type": "code",
   "execution_count": 20,
   "metadata": {},
   "outputs": [
    {
     "data": {
      "text/html": [
       "<div>\n",
       "<style scoped>\n",
       "    .dataframe tbody tr th:only-of-type {\n",
       "        vertical-align: middle;\n",
       "    }\n",
       "\n",
       "    .dataframe tbody tr th {\n",
       "        vertical-align: top;\n",
       "    }\n",
       "\n",
       "    .dataframe thead th {\n",
       "        text-align: right;\n",
       "    }\n",
       "</style>\n",
       "<table border=\"1\" class=\"dataframe\">\n",
       "  <thead>\n",
       "    <tr style=\"text-align: right;\">\n",
       "      <th></th>\n",
       "      <th>Open</th>\n",
       "      <th>High</th>\n",
       "      <th>Low</th>\n",
       "      <th>WAP</th>\n",
       "      <th>MA20</th>\n",
       "      <th>MA50</th>\n",
       "    </tr>\n",
       "  </thead>\n",
       "  <tbody>\n",
       "    <tr>\n",
       "      <th>0</th>\n",
       "      <td>124.10</td>\n",
       "      <td>127.5</td>\n",
       "      <td>120.75</td>\n",
       "      <td>124.46</td>\n",
       "      <td>137.7075</td>\n",
       "      <td>133.797</td>\n",
       "    </tr>\n",
       "    <tr>\n",
       "      <th>1</th>\n",
       "      <td>126.90</td>\n",
       "      <td>140.0</td>\n",
       "      <td>126.00</td>\n",
       "      <td>133.92</td>\n",
       "      <td>137.1325</td>\n",
       "      <td>134.380</td>\n",
       "    </tr>\n",
       "    <tr>\n",
       "      <th>2</th>\n",
       "      <td>135.45</td>\n",
       "      <td>142.5</td>\n",
       "      <td>132.95</td>\n",
       "      <td>139.70</td>\n",
       "      <td>136.9375</td>\n",
       "      <td>135.074</td>\n",
       "    </tr>\n",
       "    <tr>\n",
       "      <th>3</th>\n",
       "      <td>142.00</td>\n",
       "      <td>149.4</td>\n",
       "      <td>140.80</td>\n",
       "      <td>146.08</td>\n",
       "      <td>136.9950</td>\n",
       "      <td>135.823</td>\n",
       "    </tr>\n",
       "    <tr>\n",
       "      <th>4</th>\n",
       "      <td>144.50</td>\n",
       "      <td>152.0</td>\n",
       "      <td>144.50</td>\n",
       "      <td>149.75</td>\n",
       "      <td>137.1675</td>\n",
       "      <td>136.549</td>\n",
       "    </tr>\n",
       "  </tbody>\n",
       "</table>\n",
       "</div>"
      ],
      "text/plain": [
       "     Open   High     Low     WAP      MA20     MA50\n",
       "0  124.10  127.5  120.75  124.46  137.7075  133.797\n",
       "1  126.90  140.0  126.00  133.92  137.1325  134.380\n",
       "2  135.45  142.5  132.95  139.70  136.9375  135.074\n",
       "3  142.00  149.4  140.80  146.08  136.9950  135.823\n",
       "4  144.50  152.0  144.50  149.75  137.1675  136.549"
      ]
     },
     "execution_count": 20,
     "metadata": {},
     "output_type": "execute_result"
    }
   ],
   "source": [
    "X = pd.DataFrame(df)\n",
    "X.reset_index()\n",
    "X = X.drop(['Date','Close','Trend','Spread C-O','Total Turnover','Deliverable Quantity','% Deli. Qty to Traded Qty','Spread H-L','No. of Shares','No. of Trades'], axis=1)\n",
    "X.head()"
   ]
  },
  {
   "cell_type": "markdown",
   "metadata": {},
   "source": [
    "Apply Standard Scaler to Encode features on input datasets"
   ]
  },
  {
   "cell_type": "code",
   "execution_count": 21,
   "metadata": {},
   "outputs": [
    {
     "data": {
      "text/html": [
       "<div>\n",
       "<style scoped>\n",
       "    .dataframe tbody tr th:only-of-type {\n",
       "        vertical-align: middle;\n",
       "    }\n",
       "\n",
       "    .dataframe tbody tr th {\n",
       "        vertical-align: top;\n",
       "    }\n",
       "\n",
       "    .dataframe thead th {\n",
       "        text-align: right;\n",
       "    }\n",
       "</style>\n",
       "<table border=\"1\" class=\"dataframe\">\n",
       "  <thead>\n",
       "    <tr style=\"text-align: right;\">\n",
       "      <th></th>\n",
       "      <th>0</th>\n",
       "      <th>1</th>\n",
       "      <th>2</th>\n",
       "      <th>3</th>\n",
       "      <th>4</th>\n",
       "      <th>5</th>\n",
       "    </tr>\n",
       "  </thead>\n",
       "  <tbody>\n",
       "    <tr>\n",
       "      <th>0</th>\n",
       "      <td>0.174388</td>\n",
       "      <td>0.178760</td>\n",
       "      <td>0.166240</td>\n",
       "      <td>0.175082</td>\n",
       "      <td>0.456574</td>\n",
       "      <td>0.383631</td>\n",
       "    </tr>\n",
       "    <tr>\n",
       "      <th>1</th>\n",
       "      <td>0.228878</td>\n",
       "      <td>0.416247</td>\n",
       "      <td>0.270569</td>\n",
       "      <td>0.358600</td>\n",
       "      <td>0.445190</td>\n",
       "      <td>0.395340</td>\n",
       "    </tr>\n",
       "    <tr>\n",
       "      <th>2</th>\n",
       "      <td>0.395267</td>\n",
       "      <td>0.463744</td>\n",
       "      <td>0.408681</td>\n",
       "      <td>0.470727</td>\n",
       "      <td>0.441329</td>\n",
       "      <td>0.409278</td>\n",
       "    </tr>\n",
       "    <tr>\n",
       "      <th>3</th>\n",
       "      <td>0.522735</td>\n",
       "      <td>0.594837</td>\n",
       "      <td>0.564677</td>\n",
       "      <td>0.594495</td>\n",
       "      <td>0.442467</td>\n",
       "      <td>0.424321</td>\n",
       "    </tr>\n",
       "    <tr>\n",
       "      <th>4</th>\n",
       "      <td>0.571387</td>\n",
       "      <td>0.644235</td>\n",
       "      <td>0.638204</td>\n",
       "      <td>0.665690</td>\n",
       "      <td>0.445883</td>\n",
       "      <td>0.438902</td>\n",
       "    </tr>\n",
       "  </tbody>\n",
       "</table>\n",
       "</div>"
      ],
      "text/plain": [
       "          0         1         2         3         4         5\n",
       "0  0.174388  0.178760  0.166240  0.175082  0.456574  0.383631\n",
       "1  0.228878  0.416247  0.270569  0.358600  0.445190  0.395340\n",
       "2  0.395267  0.463744  0.408681  0.470727  0.441329  0.409278\n",
       "3  0.522735  0.594837  0.564677  0.594495  0.442467  0.424321\n",
       "4  0.571387  0.644235  0.638204  0.665690  0.445883  0.438902"
      ]
     },
     "execution_count": 21,
     "metadata": {},
     "output_type": "execute_result"
    }
   ],
   "source": [
    "scaler = StandardScaler().fit(X)\n",
    "X = scaler.transform(X)\n",
    "X = pd.DataFrame(X)\n",
    "X.head()"
   ]
  },
  {
   "cell_type": "markdown",
   "metadata": {},
   "source": [
    "Split Training and Testing dataset. Based on following code, 80% of data will be used for training and 20% for testing."
   ]
  },
  {
   "cell_type": "markdown",
   "metadata": {},
   "source": [
    "#### Split the data for Regression Problem using y_Close"
   ]
  },
  {
   "cell_type": "code",
   "execution_count": 22,
   "metadata": {},
   "outputs": [
    {
     "name": "stdout",
     "output_type": "stream",
     "text": [
      "Train cases as below\n",
      "X_train shape:  (736, 6)\n",
      "y_train shape:  (736,)\n",
      "\n",
      "Test cases as below\n",
      "X_test shape:  (184, 6)\n",
      "y_test shape:  (184,)\n"
     ]
    }
   ],
   "source": [
    "def split(X,y):\n",
    "    return train_test_split(X, y, test_size=0.20, random_state=1)\n",
    "\n",
    "X_train, X_test, y_Close_train, y_Close_test=split(X,y_Close)\n",
    "\n",
    "print('Train cases as below')\n",
    "print('X_train shape: ',X_train.shape)\n",
    "print('y_train shape: ',y_Close_train.shape)\n",
    "\n",
    "print('\\nTest cases as below')\n",
    "print('X_test shape: ',X_test.shape)\n",
    "print('y_test shape: ',y_Close_test.shape)"
   ]
  },
  {
   "cell_type": "markdown",
   "metadata": {},
   "source": [
    "Creating list to log various scores for Algorithms"
   ]
  },
  {
   "cell_type": "code",
   "execution_count": 23,
   "metadata": {},
   "outputs": [],
   "source": [
    "Regression_Score = []\n",
    "Score_Heading = ['Algorithm','Mean Absolute Error','RMSE','R-Squared','Adjusted R-Squared']"
   ]
  },
  {
   "cell_type": "code",
   "execution_count": 74,
   "metadata": {},
   "outputs": [],
   "source": [
    "Classification_Score = []\n",
    "Accuracy_Heading = ['Algorithm','Accuracy','AUC']"
   ]
  },
  {
   "cell_type": "markdown",
   "metadata": {},
   "source": [
    "# Regression Algorithms"
   ]
  },
  {
   "cell_type": "markdown",
   "metadata": {},
   "source": [
    "## Linear Regression"
   ]
  },
  {
   "cell_type": "code",
   "execution_count": 24,
   "metadata": {},
   "outputs": [
    {
     "data": {
      "text/plain": [
       "LinearRegression()"
      ]
     },
     "execution_count": 24,
     "metadata": {},
     "output_type": "execute_result"
    }
   ],
   "source": [
    "linreg = LinearRegression()\n",
    "linreg.fit(X_train, y_Close_train) "
   ]
  },
  {
   "cell_type": "code",
   "execution_count": 25,
   "metadata": {},
   "outputs": [],
   "source": [
    "y_Close_pred_lin = linreg.predict(X_test)"
   ]
  },
  {
   "cell_type": "code",
   "execution_count": 26,
   "metadata": {},
   "outputs": [
    {
     "name": "stdout",
     "output_type": "stream",
     "text": [
      "MAE Linear:  0.9058714653029464\n",
      "RMSE Linear:  1.298603716874183\n",
      "R2 Linear:  0.9993836263949747\n",
      "Adjusted R2 Linear:  0.9993627323744654\n"
     ]
    }
   ],
   "source": [
    "MAE_linear = metrics.mean_absolute_error(y_Close_test, y_Close_pred_lin)\n",
    "print('MAE Linear: ', MAE_linear)\n",
    "RMSE_linear = np.sqrt(metrics.mean_squared_error(y_Close_test, y_Close_pred_lin))\n",
    "print('RMSE Linear: ', RMSE_linear)\n",
    "r2_linear = r2_score(y_Close_test, y_Close_pred_lin)\n",
    "print (\"R2 Linear: \", r2_linear)\n",
    "adjusted_r2_linear = 1 - (1-r2_linear)*(len(y_Close_test)-1)/(len(y_Close_test)-X_test.shape[1]-1)\n",
    "print (\"Adjusted R2 Linear: \", adjusted_r2_linear)"
   ]
  },
  {
   "cell_type": "code",
   "execution_count": 27,
   "metadata": {},
   "outputs": [],
   "source": [
    "Regression_Score.append(['Linear Regression', MAE_linear, RMSE_linear, r2_linear,adjusted_r2_linear])"
   ]
  },
  {
   "cell_type": "markdown",
   "metadata": {},
   "source": [
    "## Decision Tree Regressor"
   ]
  },
  {
   "cell_type": "code",
   "execution_count": 28,
   "metadata": {},
   "outputs": [
    {
     "data": {
      "text/plain": [
       "DecisionTreeRegressor(random_state=0)"
      ]
     },
     "execution_count": 28,
     "metadata": {},
     "output_type": "execute_result"
    }
   ],
   "source": [
    "model = tree.DecisionTreeRegressor(random_state = 0)\n",
    "model.fit(X_train, y_Close_train)"
   ]
  },
  {
   "cell_type": "code",
   "execution_count": 29,
   "metadata": {},
   "outputs": [],
   "source": [
    "y_Close_pred_dec = model.predict(X_test)"
   ]
  },
  {
   "cell_type": "code",
   "execution_count": 30,
   "metadata": {},
   "outputs": [
    {
     "name": "stdout",
     "output_type": "stream",
     "text": [
      "MAE Decision Tree:  1.5247282608695643\n",
      "RMSE Decision Tree:  2.1458725548687947\n",
      "R2 Decision Tree:  0.9983169438695769\n",
      "Adjusted R2 Decision Tree:  0.9982598911193931\n"
     ]
    }
   ],
   "source": [
    "MAE_dec = metrics.mean_absolute_error(y_Close_test, y_Close_pred_dec)\n",
    "print('MAE Decision Tree: ', MAE_dec)\n",
    "RMSE_dec =np.sqrt(metrics.mean_squared_error(y_Close_test, y_Close_pred_dec))\n",
    "print('RMSE Decision Tree: ', RMSE_dec)\n",
    "r2_dec = r2_score(y_Close_test, y_Close_pred_dec)\n",
    "print('R2 Decision Tree: ', r2_dec)\n",
    "adjusted_r2_dec = 1 - (1-r2_dec)*(len(y_Close_test)-1)/(len(y_Close_test)-X_test.shape[1]-1)\n",
    "print('Adjusted R2 Decision Tree: ', adjusted_r2_dec)"
   ]
  },
  {
   "cell_type": "code",
   "execution_count": 31,
   "metadata": {},
   "outputs": [],
   "source": [
    "Regression_Score.append(['Decision Tree Regressor', MAE_dec, RMSE_dec, r2_dec,adjusted_r2_dec])"
   ]
  },
  {
   "cell_type": "markdown",
   "metadata": {},
   "source": [
    "## Random Forest Regressor"
   ]
  },
  {
   "cell_type": "code",
   "execution_count": 32,
   "metadata": {},
   "outputs": [],
   "source": [
    "rfr = RandomForestRegressor()\n",
    "model1 = rfr.fit(X_train, y_Close_train)"
   ]
  },
  {
   "cell_type": "code",
   "execution_count": 33,
   "metadata": {},
   "outputs": [],
   "source": [
    "y_Close_pred_rfr = model1.predict(X_test)"
   ]
  },
  {
   "cell_type": "code",
   "execution_count": 34,
   "metadata": {},
   "outputs": [
    {
     "name": "stdout",
     "output_type": "stream",
     "text": [
      "MAE Random Forest:  1.1746222826086963\n",
      "RMSE Random Forest:  1.6826742137178152\n",
      "R2 Random Forest:  0.9989651180117246\n",
      "Adjusted R2 Random Forest:  0.9989300372663593\n"
     ]
    }
   ],
   "source": [
    "MAE_rfr = metrics.mean_absolute_error(y_Close_test, y_Close_pred_rfr)\n",
    "print('MAE Random Forest: ', MAE_rfr)\n",
    "RMSE_rfr = np.sqrt(metrics.mean_squared_error(y_Close_test, y_Close_pred_rfr))\n",
    "print('RMSE Random Forest: ', RMSE_rfr)\n",
    "r2_rfr = r2_score(y_Close_test, y_Close_pred_rfr)\n",
    "print('R2 Random Forest: ', r2_rfr)\n",
    "adjusted_r2_rfr = 1 - (1-r2_rfr)*(len(y_Close_test)-1)/(len(y_Close_test)-X_test.shape[1]-1)\n",
    "print('Adjusted R2 Random Forest: ', adjusted_r2_rfr)"
   ]
  },
  {
   "cell_type": "code",
   "execution_count": 35,
   "metadata": {},
   "outputs": [],
   "source": [
    "Regression_Score.append(['Random Forest Regressor', MAE_rfr, RMSE_rfr, r2_rfr,adjusted_r2_rfr])"
   ]
  },
  {
   "cell_type": "code",
   "execution_count": 36,
   "metadata": {
    "scrolled": false
   },
   "outputs": [
    {
     "data": {
      "text/html": [
       "<div>\n",
       "<style scoped>\n",
       "    .dataframe tbody tr th:only-of-type {\n",
       "        vertical-align: middle;\n",
       "    }\n",
       "\n",
       "    .dataframe tbody tr th {\n",
       "        vertical-align: top;\n",
       "    }\n",
       "\n",
       "    .dataframe thead th {\n",
       "        text-align: right;\n",
       "    }\n",
       "</style>\n",
       "<table border=\"1\" class=\"dataframe\">\n",
       "  <thead>\n",
       "    <tr style=\"text-align: right;\">\n",
       "      <th></th>\n",
       "      <th>Mean Absolute Error</th>\n",
       "      <th>RMSE</th>\n",
       "      <th>R-Squared</th>\n",
       "      <th>Adjusted R-Squared</th>\n",
       "    </tr>\n",
       "    <tr>\n",
       "      <th>Algorithm</th>\n",
       "      <th></th>\n",
       "      <th></th>\n",
       "      <th></th>\n",
       "      <th></th>\n",
       "    </tr>\n",
       "  </thead>\n",
       "  <tbody>\n",
       "    <tr>\n",
       "      <th>Linear Regression</th>\n",
       "      <td>0.905871</td>\n",
       "      <td>1.298604</td>\n",
       "      <td>0.999384</td>\n",
       "      <td>0.999363</td>\n",
       "    </tr>\n",
       "    <tr>\n",
       "      <th>Decision Tree Regressor</th>\n",
       "      <td>1.524728</td>\n",
       "      <td>2.145873</td>\n",
       "      <td>0.998317</td>\n",
       "      <td>0.998260</td>\n",
       "    </tr>\n",
       "    <tr>\n",
       "      <th>Random Forest Regressor</th>\n",
       "      <td>1.174622</td>\n",
       "      <td>1.682674</td>\n",
       "      <td>0.998965</td>\n",
       "      <td>0.998930</td>\n",
       "    </tr>\n",
       "  </tbody>\n",
       "</table>\n",
       "</div>"
      ],
      "text/plain": [
       "                         Mean Absolute Error      RMSE  R-Squared  \\\n",
       "Algorithm                                                           \n",
       "Linear Regression                   0.905871  1.298604   0.999384   \n",
       "Decision Tree Regressor             1.524728  2.145873   0.998317   \n",
       "Random Forest Regressor             1.174622  1.682674   0.998965   \n",
       "\n",
       "                         Adjusted R-Squared  \n",
       "Algorithm                                    \n",
       "Linear Regression                  0.999363  \n",
       "Decision Tree Regressor            0.998260  \n",
       "Random Forest Regressor            0.998930  "
      ]
     },
     "execution_count": 36,
     "metadata": {},
     "output_type": "execute_result"
    }
   ],
   "source": [
    "Final_Score = pd.DataFrame(data = Regression_Score, columns = Score_Heading)\n",
    "Final_Score = Final_Score.set_index('Algorithm')\n",
    "Final_Score"
   ]
  },
  {
   "cell_type": "markdown",
   "metadata": {},
   "source": [
    "Linear Regression is working very well for this problem. "
   ]
  },
  {
   "cell_type": "markdown",
   "metadata": {},
   "source": [
    "# Classification Algorithms"
   ]
  },
  {
   "cell_type": "markdown",
   "metadata": {},
   "source": [
    "Split Training and Testing dataset. Based on following code, 80% of data will be used for training and 20% for testing"
   ]
  },
  {
   "cell_type": "markdown",
   "metadata": {},
   "source": [
    "Split y_Trend for following Classification Problem"
   ]
  },
  {
   "cell_type": "markdown",
   "metadata": {},
   "source": [
    "## Logistic Regression"
   ]
  },
  {
   "cell_type": "code",
   "execution_count": 37,
   "metadata": {},
   "outputs": [],
   "source": [
    "X_train, X_test, y_Trend_train, y_Trend_test = split(X,y_Trend)"
   ]
  },
  {
   "cell_type": "code",
   "execution_count": 38,
   "metadata": {},
   "outputs": [
    {
     "data": {
      "text/plain": [
       "0.75"
      ]
     },
     "execution_count": 38,
     "metadata": {},
     "output_type": "execute_result"
    }
   ],
   "source": [
    "lr = LogisticRegression()\n",
    "model_lr = lr.fit(X_train, y_Trend_train)\n",
    "y_Trend_pred_lr = model_lr.predict(X_test)\n",
    "logistic_score1 = accuracy_score(y_Trend_test,y_Trend_pred_lr)\n",
    "logistic_score1"
   ]
  },
  {
   "cell_type": "code",
   "execution_count": 39,
   "metadata": {},
   "outputs": [
    {
     "name": "stdout",
     "output_type": "stream",
     "text": [
      "[[107   2]\n",
      " [ 44  31]]\n"
     ]
    }
   ],
   "source": [
    "print(confusion_matrix(y_Trend_test,y_Trend_pred_lr))"
   ]
  },
  {
   "cell_type": "code",
   "execution_count": 40,
   "metadata": {
    "scrolled": true
   },
   "outputs": [
    {
     "name": "stdout",
     "output_type": "stream",
     "text": [
      "              precision    recall  f1-score   support\n",
      "\n",
      "        Down       0.71      0.98      0.82       109\n",
      "          Up       0.94      0.41      0.57        75\n",
      "\n",
      "    accuracy                           0.75       184\n",
      "   macro avg       0.82      0.70      0.70       184\n",
      "weighted avg       0.80      0.75      0.72       184\n",
      "\n"
     ]
    }
   ],
   "source": [
    "print(classification_report(y_Trend_test,y_Trend_pred_lr))"
   ]
  },
  {
   "cell_type": "markdown",
   "metadata": {},
   "source": [
    "Logistic Regression has accuracy of 75%"
   ]
  },
  {
   "cell_type": "markdown",
   "metadata": {},
   "source": [
    "## Decision Tree Classifier"
   ]
  },
  {
   "cell_type": "code",
   "execution_count": 41,
   "metadata": {},
   "outputs": [
    {
     "data": {
      "text/plain": [
       "0.657608695652174"
      ]
     },
     "execution_count": 41,
     "metadata": {},
     "output_type": "execute_result"
    }
   ],
   "source": [
    "decision_model = tree.DecisionTreeClassifier(random_state = 0)\n",
    "decision_model.fit(X_train, y_Trend_train)\n",
    "y_Trend_pred_dt = decision_model.predict(X_test)\n",
    "decision_score = accuracy_score(y_Trend_test,y_Trend_pred_dt)\n",
    "decision_score"
   ]
  },
  {
   "cell_type": "code",
   "execution_count": 42,
   "metadata": {},
   "outputs": [
    {
     "name": "stdout",
     "output_type": "stream",
     "text": [
      "[[74 35]\n",
      " [28 47]]\n"
     ]
    }
   ],
   "source": [
    "print(confusion_matrix(y_Trend_test,y_Trend_pred_dt))"
   ]
  },
  {
   "cell_type": "code",
   "execution_count": 43,
   "metadata": {},
   "outputs": [
    {
     "name": "stdout",
     "output_type": "stream",
     "text": [
      "              precision    recall  f1-score   support\n",
      "\n",
      "        Down       0.73      0.68      0.70       109\n",
      "          Up       0.57      0.63      0.60        75\n",
      "\n",
      "    accuracy                           0.66       184\n",
      "   macro avg       0.65      0.65      0.65       184\n",
      "weighted avg       0.66      0.66      0.66       184\n",
      "\n"
     ]
    }
   ],
   "source": [
    "print(classification_report(y_Trend_test,y_Trend_pred_dt))"
   ]
  },
  {
   "cell_type": "markdown",
   "metadata": {},
   "source": [
    "Decision Tree has accuracy of 65%"
   ]
  },
  {
   "cell_type": "markdown",
   "metadata": {},
   "source": [
    "## Random Forest Classifier"
   ]
  },
  {
   "cell_type": "code",
   "execution_count": 44,
   "metadata": {},
   "outputs": [],
   "source": [
    "rfc = RandomForestClassifier()\n",
    "rfc_model = rfc.fit(X_train, y_Trend_train)"
   ]
  },
  {
   "cell_type": "code",
   "execution_count": 45,
   "metadata": {},
   "outputs": [
    {
     "data": {
      "text/plain": [
       "0.6793478260869565"
      ]
     },
     "execution_count": 45,
     "metadata": {},
     "output_type": "execute_result"
    }
   ],
   "source": [
    "y_Trend_pred_rfc = rfc_model.predict(X_test)\n",
    "rfc_score = accuracy_score(y_Trend_test,y_Trend_pred_rfc)\n",
    "rfc_score"
   ]
  },
  {
   "cell_type": "code",
   "execution_count": 46,
   "metadata": {},
   "outputs": [
    {
     "name": "stdout",
     "output_type": "stream",
     "text": [
      "[[84 25]\n",
      " [34 41]]\n"
     ]
    }
   ],
   "source": [
    "print(confusion_matrix(y_Trend_test,y_Trend_pred_rfc))"
   ]
  },
  {
   "cell_type": "code",
   "execution_count": 47,
   "metadata": {},
   "outputs": [
    {
     "name": "stdout",
     "output_type": "stream",
     "text": [
      "              precision    recall  f1-score   support\n",
      "\n",
      "        Down       0.73      0.68      0.70       109\n",
      "          Up       0.57      0.63      0.60        75\n",
      "\n",
      "    accuracy                           0.66       184\n",
      "   macro avg       0.65      0.65      0.65       184\n",
      "weighted avg       0.66      0.66      0.66       184\n",
      "\n"
     ]
    }
   ],
   "source": [
    "print(classification_report(y_Trend_test,y_Trend_pred_dt))"
   ]
  },
  {
   "cell_type": "markdown",
   "metadata": {},
   "source": [
    "Random Forest Classifier has accuracy of 68%"
   ]
  },
  {
   "cell_type": "markdown",
   "metadata": {},
   "source": [
    "### Checking Value of ccp_alphas to avoid Overfitting and Underfitting"
   ]
  },
  {
   "cell_type": "code",
   "execution_count": 48,
   "metadata": {},
   "outputs": [
    {
     "data": {
      "text/plain": [
       "array([0.        , 0.0011646 , 0.0011646 , 0.00117754, 0.00118886,\n",
       "       0.00118886, 0.00120773, 0.00122283, 0.00126165, 0.00126499,\n",
       "       0.00126812, 0.00126812, 0.00128719, 0.00129962, 0.00131017,\n",
       "       0.0013587 , 0.00144928, 0.001508  , 0.00150966, 0.00158103,\n",
       "       0.00161031, 0.00174689, 0.00181159, 0.00181159, 0.00181159,\n",
       "       0.00181159, 0.00181159, 0.00193353, 0.00195812, 0.00207039,\n",
       "       0.00213509, 0.00217391, 0.00217391, 0.00226126, 0.00226449,\n",
       "       0.00227699, 0.00231693, 0.00232919, 0.00233669, 0.0023913 ,\n",
       "       0.00241546, 0.00241546, 0.00249094, 0.00253623, 0.00258799,\n",
       "       0.00267843, 0.00272952, 0.00282032, 0.00316745, 0.00323634,\n",
       "       0.00331025, 0.00351339, 0.00351448, 0.00353043, 0.00354646,\n",
       "       0.00356658, 0.00357113, 0.00364569, 0.00412704, 0.0045055 ,\n",
       "       0.00468611, 0.00517598, 0.00540294, 0.00556653, 0.00632069,\n",
       "       0.00794686])"
      ]
     },
     "execution_count": 48,
     "metadata": {},
     "output_type": "execute_result"
    }
   ],
   "source": [
    "path = decision_model.cost_complexity_pruning_path(X_train, y_Trend_train)\n",
    "ccp_alphas, impurities = path.ccp_alphas, path.impurities\n",
    "ccp_alphas"
   ]
  },
  {
   "cell_type": "code",
   "execution_count": 49,
   "metadata": {},
   "outputs": [
    {
     "name": "stdout",
     "output_type": "stream",
     "text": [
      "Number of nodes in the last tree is: 1423 with ccp_alpha: 0.007946862515158665\n"
     ]
    }
   ],
   "source": [
    "clfs = []\n",
    "for ccp_alpha in ccp_alphas:\n",
    "    model_ccp = tree.DecisionTreeClassifier(random_state=0, ccp_alpha=ccp_alpha)\n",
    "    model_ccp.fit(X_train, y_Trend_train)\n",
    "    clfs.append(model)\n",
    "print(\"Number of nodes in the last tree is: {} with ccp_alpha: {}\".format(\n",
    "      clfs[-1].tree_.node_count, ccp_alphas[-1]))\n",
    "\n"
   ]
  },
  {
   "cell_type": "code",
   "execution_count": 50,
   "metadata": {},
   "outputs": [
    {
     "data": {
      "image/png": "[encoded data removed]",
      "text/plain": [
       "<Figure size 432x288 with 1 Axes>"
      ]
     },
     "metadata": {
      "needs_background": "light"
     },
     "output_type": "display_data"
    }
   ],
   "source": [
    "train_scores = [model_ccp.score(X_train, y_Trend_train) for model in clfs]\n",
    "test_scores = [model_ccp.score(X_test, y_Trend_test) for model in clfs]\n",
    "\n",
    "fig, ax = plt.subplots()\n",
    "ax.set_xlabel(\"alpha\")\n",
    "ax.set_ylabel(\"accuracy\")\n",
    "ax.set_title(\"Accuracy vs alpha for training and testing sets\")\n",
    "ax.plot(ccp_alphas, train_scores, marker='o', label=\"train\",\n",
    "        drawstyle=\"steps-post\")\n",
    "ax.plot(ccp_alphas, test_scores, marker='o', label=\"test\",\n",
    "        drawstyle=\"steps-post\")\n",
    "ax.legend()\n",
    "plt.show()"
   ]
  },
  {
   "cell_type": "markdown",
   "metadata": {},
   "source": [
    "ccp_alphas will not be useful for hyperparameter tuning"
   ]
  },
  {
   "cell_type": "markdown",
   "metadata": {},
   "source": [
    "### Applying GridSearchCV to Decision Tree to check if Accuracy is improved with the help of hyperparameter tuning."
   ]
  },
  {
   "cell_type": "code",
   "execution_count": 51,
   "metadata": {},
   "outputs": [
    {
     "data": {
      "text/plain": [
       "GridSearchCV(cv=10, estimator=DecisionTreeClassifier(random_state=0),\n",
       "             param_grid=[{'criterion': ['gini', 'entropy'],\n",
       "                          'max_depth': range(2, 60),\n",
       "                          'max_features': ['sqrt', 'log2', None]}],\n",
       "             refit='AUC')"
      ]
     },
     "execution_count": 51,
     "metadata": {},
     "output_type": "execute_result"
    }
   ],
   "source": [
    "from sklearn.model_selection import GridSearchCV\n",
    "decision_tree_classifier = tree.DecisionTreeClassifier(random_state = 0)\n",
    "tree_para = [{'criterion':['gini','entropy'],'max_depth': range(2,60),\n",
    "                             'max_features': ['sqrt', 'log2', None] }]\n",
    "grid_search = GridSearchCV(decision_tree_classifier,tree_para, cv=10, refit='AUC')\n",
    "grid_search.fit(X_train, y_Trend_train)"
   ]
  },
  {
   "cell_type": "code",
   "execution_count": 52,
   "metadata": {},
   "outputs": [],
   "source": [
    "y_pred_gridcv = grid_search.predict(X_test)"
   ]
  },
  {
   "cell_type": "code",
   "execution_count": 53,
   "metadata": {
    "scrolled": false
   },
   "outputs": [
    {
     "name": "stdout",
     "output_type": "stream",
     "text": [
      "Accuracy after GridSearchCV:  0.6358695652173914\n"
     ]
    }
   ],
   "source": [
    "print('Accuracy after GridSearchCV: ', accuracy_score(y_Trend_test,y_pred_gridcv))"
   ]
  },
  {
   "cell_type": "markdown",
   "metadata": {},
   "source": [
    "#### Accuracy of Decision Tree Classifier is not improved."
   ]
  },
  {
   "cell_type": "code",
   "execution_count": 54,
   "metadata": {
    "scrolled": true
   },
   "outputs": [
    {
     "name": "stdout",
     "output_type": "stream",
     "text": [
      "[[77 32]\n",
      " [35 40]]\n"
     ]
    }
   ],
   "source": [
    "print(confusion_matrix(y_Trend_test,y_pred_gridcv))"
   ]
  },
  {
   "cell_type": "code",
   "execution_count": 55,
   "metadata": {},
   "outputs": [
    {
     "name": "stdout",
     "output_type": "stream",
     "text": [
      "              precision    recall  f1-score   support\n",
      "\n",
      "        Down       0.69      0.71      0.70       109\n",
      "          Up       0.56      0.53      0.54        75\n",
      "\n",
      "    accuracy                           0.64       184\n",
      "   macro avg       0.62      0.62      0.62       184\n",
      "weighted avg       0.63      0.64      0.63       184\n",
      "\n"
     ]
    }
   ],
   "source": [
    "print(classification_report(y_Trend_test,y_pred_gridcv))"
   ]
  },
  {
   "cell_type": "markdown",
   "metadata": {},
   "source": [
    "### Plotting ROC/AUC to check efficient model. "
   ]
  },
  {
   "cell_type": "markdown",
   "metadata": {},
   "source": [
    "#### Apply One Hot Encoding"
   ]
  },
  {
   "cell_type": "code",
   "execution_count": 56,
   "metadata": {},
   "outputs": [],
   "source": [
    "y_scaler =  pd.get_dummies(y_Trend_test, drop_first = True)"
   ]
  },
  {
   "cell_type": "code",
   "execution_count": 95,
   "metadata": {},
   "outputs": [
    {
     "data": {
      "image/png": "[encoded data removed]",
      "text/plain": [
       "<Figure size 432x288 with 1 Axes>"
      ]
     },
     "metadata": {
      "needs_background": "light"
     },
     "output_type": "display_data"
    }
   ],
   "source": [
    "probs = model_lr.predict_proba(X_test)\n",
    "preds = probs[:,1]\n",
    "fpr, tpr, threshold = metrics.roc_curve(y_scaler, preds)\n",
    "roc_auc = metrics.auc(fpr, tpr)\n",
    "\n",
    "plt.title('Receiver Operating Characteristic - Logistic Regression')\n",
    "plt.plot(fpr, tpr, 'b', label = 'AUC = %0.2f' % roc_auc)\n",
    "plt.legend(loc = 'lower right')\n",
    "plt.plot([0, 1], [0, 1],'r--')\n",
    "plt.xlim([0, 1])\n",
    "plt.ylim([0, 1])\n",
    "plt.ylabel('True Positive Rate')\n",
    "plt.xlabel('False Positive Rate')\n",
    "plt.savefig('ROC Logistic.png')\n",
    "plt.show()\n"
   ]
  },
  {
   "cell_type": "code",
   "execution_count": 76,
   "metadata": {},
   "outputs": [],
   "source": [
    "Classification_Score.append(['Logistic Regression', logistic_score1, roc_auc])"
   ]
  },
  {
   "cell_type": "code",
   "execution_count": 96,
   "metadata": {},
   "outputs": [
    {
     "data": {
      "image/png": "[encoded data removed]",
      "text/plain": [
       "<Figure size 432x288 with 1 Axes>"
      ]
     },
     "metadata": {
      "needs_background": "light"
     },
     "output_type": "display_data"
    }
   ],
   "source": [
    "probs = grid_search.predict_proba(X_test)\n",
    "preds = probs[:,1]\n",
    "fpr, tpr, threshold = metrics.roc_curve(y_scaler, preds)\n",
    "roc_auc = metrics.auc(fpr, tpr)\n",
    "\n",
    "plt.title('Receiver Operating Characteristic - Decision Tree')\n",
    "plt.plot(fpr, tpr, 'b', label = 'AUC = %0.2f' % roc_auc)\n",
    "plt.legend(loc = 'lower right')\n",
    "plt.plot([0, 1], [0, 1],'r--')\n",
    "plt.xlim([0, 1])\n",
    "plt.ylim([0, 1])\n",
    "plt.ylabel('True Positive Rate')\n",
    "plt.xlabel('False Positive Rate')\n",
    "plt.savefig('ROC Decision Tree.png')\n",
    "plt.show()"
   ]
  },
  {
   "cell_type": "code",
   "execution_count": 78,
   "metadata": {},
   "outputs": [],
   "source": [
    "Classification_Score.append(['Decision Tree Classifier', decision_score, roc_auc])"
   ]
  },
  {
   "cell_type": "code",
   "execution_count": 97,
   "metadata": {
    "scrolled": true
   },
   "outputs": [
    {
     "data": {
      "image/png": "[encoded data removed]",
      "text/plain": [
       "<Figure size 432x288 with 1 Axes>"
      ]
     },
     "metadata": {
      "needs_background": "light"
     },
     "output_type": "display_data"
    }
   ],
   "source": [
    "probs = rfc_model.predict_proba(X_test)\n",
    "preds = probs[:,1]\n",
    "fpr, tpr, threshold = metrics.roc_curve(y_scaler, preds)\n",
    "roc_auc = metrics.auc(fpr, tpr)\n",
    "\n",
    "plt.title('Receiver Operating Characteristic - Random Forest')\n",
    "plt.plot(fpr, tpr, 'b', label = 'AUC = %0.2f' % roc_auc)\n",
    "plt.legend(loc = 'lower right')\n",
    "plt.plot([0, 1], [0, 1],'r--')\n",
    "plt.xlim([0, 1])\n",
    "plt.ylim([0, 1])\n",
    "plt.ylabel('True Positive Rate')\n",
    "plt.xlabel('False Positive Rate')\n",
    "plt.savefig('ROC Random Forest.png')\n",
    "plt.show()"
   ]
  },
  {
   "cell_type": "code",
   "execution_count": 80,
   "metadata": {},
   "outputs": [],
   "source": [
    "Classification_Score.append(['Random Forest Classifier', rfc_score, roc_auc])"
   ]
  },
  {
   "cell_type": "code",
   "execution_count": 81,
   "metadata": {},
   "outputs": [
    {
     "data": {
      "text/html": [
       "<div>\n",
       "<style scoped>\n",
       "    .dataframe tbody tr th:only-of-type {\n",
       "        vertical-align: middle;\n",
       "    }\n",
       "\n",
       "    .dataframe tbody tr th {\n",
       "        vertical-align: top;\n",
       "    }\n",
       "\n",
       "    .dataframe thead th {\n",
       "        text-align: right;\n",
       "    }\n",
       "</style>\n",
       "<table border=\"1\" class=\"dataframe\">\n",
       "  <thead>\n",
       "    <tr style=\"text-align: right;\">\n",
       "      <th></th>\n",
       "      <th>Accuracy</th>\n",
       "      <th>AUC</th>\n",
       "    </tr>\n",
       "    <tr>\n",
       "      <th>Algorithm</th>\n",
       "      <th></th>\n",
       "      <th></th>\n",
       "    </tr>\n",
       "  </thead>\n",
       "  <tbody>\n",
       "    <tr>\n",
       "      <th>Logistic Regression</th>\n",
       "      <td>0.750000</td>\n",
       "      <td>0.907768</td>\n",
       "    </tr>\n",
       "    <tr>\n",
       "      <th>Decision Tree Classifier</th>\n",
       "      <td>0.657609</td>\n",
       "      <td>0.653639</td>\n",
       "    </tr>\n",
       "    <tr>\n",
       "      <th>Random Forest Classifier</th>\n",
       "      <td>0.679348</td>\n",
       "      <td>0.697798</td>\n",
       "    </tr>\n",
       "  </tbody>\n",
       "</table>\n",
       "</div>"
      ],
      "text/plain": [
       "                          Accuracy       AUC\n",
       "Algorithm                                   \n",
       "Logistic Regression       0.750000  0.907768\n",
       "Decision Tree Classifier  0.657609  0.653639\n",
       "Random Forest Classifier  0.679348  0.697798"
      ]
     },
     "execution_count": 81,
     "metadata": {},
     "output_type": "execute_result"
    }
   ],
   "source": [
    "Final_Accuracy = pd.DataFrame(data = Classification_Score, columns = Accuracy_Heading)\n",
    "Final_Accuracy = Final_Accuracy.set_index('Algorithm')\n",
    "Final_Accuracy"
   ]
  },
  {
   "cell_type": "markdown",
   "metadata": {},
   "source": [
    "### Logistic Regression is providing better value of Area Under the Curve (AUC) = 0.91"
   ]
  },
  {
   "cell_type": "markdown",
   "metadata": {},
   "source": [
    "---\n",
    "<a name = Section10></a>\n",
    "# **10. Final Evaluation**\n",
    "---"
   ]
  },
  {
   "cell_type": "markdown",
   "metadata": {},
   "source": [
    "#### Regression Evaluation"
   ]
  },
  {
   "cell_type": "code",
   "execution_count": 60,
   "metadata": {
    "scrolled": true
   },
   "outputs": [
    {
     "data": {
      "text/html": [
       "<div>\n",
       "<style scoped>\n",
       "    .dataframe tbody tr th:only-of-type {\n",
       "        vertical-align: middle;\n",
       "    }\n",
       "\n",
       "    .dataframe tbody tr th {\n",
       "        vertical-align: top;\n",
       "    }\n",
       "\n",
       "    .dataframe thead th {\n",
       "        text-align: right;\n",
       "    }\n",
       "</style>\n",
       "<table border=\"1\" class=\"dataframe\">\n",
       "  <thead>\n",
       "    <tr style=\"text-align: right;\">\n",
       "      <th></th>\n",
       "      <th>Mean Absolute Error</th>\n",
       "      <th>RMSE</th>\n",
       "      <th>R-Squared</th>\n",
       "      <th>Adjusted R-Squared</th>\n",
       "    </tr>\n",
       "    <tr>\n",
       "      <th>Algorithm</th>\n",
       "      <th></th>\n",
       "      <th></th>\n",
       "      <th></th>\n",
       "      <th></th>\n",
       "    </tr>\n",
       "  </thead>\n",
       "  <tbody>\n",
       "    <tr>\n",
       "      <th>Linear Regression</th>\n",
       "      <td>0.905871</td>\n",
       "      <td>1.298604</td>\n",
       "      <td>0.999384</td>\n",
       "      <td>0.999363</td>\n",
       "    </tr>\n",
       "    <tr>\n",
       "      <th>Decision Tree Regressor</th>\n",
       "      <td>1.524728</td>\n",
       "      <td>2.145873</td>\n",
       "      <td>0.998317</td>\n",
       "      <td>0.998260</td>\n",
       "    </tr>\n",
       "    <tr>\n",
       "      <th>Random Forest Regressor</th>\n",
       "      <td>1.174622</td>\n",
       "      <td>1.682674</td>\n",
       "      <td>0.998965</td>\n",
       "      <td>0.998930</td>\n",
       "    </tr>\n",
       "  </tbody>\n",
       "</table>\n",
       "</div>"
      ],
      "text/plain": [
       "                         Mean Absolute Error      RMSE  R-Squared  \\\n",
       "Algorithm                                                           \n",
       "Linear Regression                   0.905871  1.298604   0.999384   \n",
       "Decision Tree Regressor             1.524728  2.145873   0.998317   \n",
       "Random Forest Regressor             1.174622  1.682674   0.998965   \n",
       "\n",
       "                         Adjusted R-Squared  \n",
       "Algorithm                                    \n",
       "Linear Regression                  0.999363  \n",
       "Decision Tree Regressor            0.998260  \n",
       "Random Forest Regressor            0.998930  "
      ]
     },
     "execution_count": 60,
     "metadata": {},
     "output_type": "execute_result"
    }
   ],
   "source": [
    "Final_Score"
   ]
  },
  {
   "cell_type": "code",
   "execution_count": 89,
   "metadata": {},
   "outputs": [],
   "source": [
    "y_Close_train_pred = linreg.predict(X)"
   ]
  },
  {
   "cell_type": "code",
   "execution_count": 102,
   "metadata": {
    "scrolled": true
   },
   "outputs": [
    {
     "data": {
      "image/png": "[encoded data removed]",
      "text/plain": [
       "<Figure size 1008x504 with 1 Axes>"
      ]
     },
     "metadata": {
      "needs_background": "light"
     },
     "output_type": "display_data"
    }
   ],
   "source": [
    "plt.figure(figsize=(14,7))\n",
    "plt.plot(df.Date, df.Close, label = \"Actual Price\")\n",
    "plt.plot(df.Date, y_Close_train_pred, label = \"Predicted Price\")\n",
    "plt.xlabel('Date')\n",
    "plt.ylabel('Price')\n",
    "plt.title('Actual vs. Predicted Stock Price for Jindal Steel (HISAR) Ltd.')\n",
    "plt.legend()\n",
    "plt.savefig('Actual vs Predicted.png')\n",
    "plt.show()"
   ]
  },
  {
   "cell_type": "markdown",
   "metadata": {},
   "source": [
    "#### Classification Evaluation"
   ]
  },
  {
   "cell_type": "code",
   "execution_count": 82,
   "metadata": {},
   "outputs": [
    {
     "data": {
      "text/html": [
       "<div>\n",
       "<style scoped>\n",
       "    .dataframe tbody tr th:only-of-type {\n",
       "        vertical-align: middle;\n",
       "    }\n",
       "\n",
       "    .dataframe tbody tr th {\n",
       "        vertical-align: top;\n",
       "    }\n",
       "\n",
       "    .dataframe thead th {\n",
       "        text-align: right;\n",
       "    }\n",
       "</style>\n",
       "<table border=\"1\" class=\"dataframe\">\n",
       "  <thead>\n",
       "    <tr style=\"text-align: right;\">\n",
       "      <th></th>\n",
       "      <th>Accuracy</th>\n",
       "      <th>AUC</th>\n",
       "    </tr>\n",
       "    <tr>\n",
       "      <th>Algorithm</th>\n",
       "      <th></th>\n",
       "      <th></th>\n",
       "    </tr>\n",
       "  </thead>\n",
       "  <tbody>\n",
       "    <tr>\n",
       "      <th>Logistic Regression</th>\n",
       "      <td>0.750000</td>\n",
       "      <td>0.907768</td>\n",
       "    </tr>\n",
       "    <tr>\n",
       "      <th>Decision Tree Classifier</th>\n",
       "      <td>0.657609</td>\n",
       "      <td>0.653639</td>\n",
       "    </tr>\n",
       "    <tr>\n",
       "      <th>Random Forest Classifier</th>\n",
       "      <td>0.679348</td>\n",
       "      <td>0.697798</td>\n",
       "    </tr>\n",
       "  </tbody>\n",
       "</table>\n",
       "</div>"
      ],
      "text/plain": [
       "                          Accuracy       AUC\n",
       "Algorithm                                   \n",
       "Logistic Regression       0.750000  0.907768\n",
       "Decision Tree Classifier  0.657609  0.653639\n",
       "Random Forest Classifier  0.679348  0.697798"
      ]
     },
     "execution_count": 82,
     "metadata": {},
     "output_type": "execute_result"
    }
   ],
   "source": [
    "Final_Accuracy"
   ]
  },
  {
   "cell_type": "markdown",
   "metadata": {},
   "source": [
    "---\n",
    "<a name = Section11></a>\n",
    "# **11. Conclusion**\n",
    "---"
   ]
  },
  {
   "cell_type": "markdown",
   "metadata": {},
   "source": [
    "#### Linear Regression (Regression problem) and Logistic Regression (Classification problem) are working better in this study."
   ]
  }
 ],
 "metadata": {
  "kernelspec": {
   "display_name": "Python 3",
   "language": "python",
   "name": "python3"
  },
  "language_info": {
   "codemirror_mode": {
    "name": "ipython",
    "version": 3
   },
   "file_extension": ".py",
   "mimetype": "text/x-python",
   "name": "python",
   "nbconvert_exporter": "python",
   "pygments_lexer": "ipython3",
   "version": "3.8.3"
  }
 },
 "nbformat": 4,
 "nbformat_minor": 4
}
